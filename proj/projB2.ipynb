{
 "cells": [
  {
   "cell_type": "code",
   "execution_count": 124,
   "metadata": {
    "deletable": false,
    "editable": false
   },
   "outputs": [],
   "source": [
    "# Initialize Otter\n",
    "import otter\n",
    "grader = otter.Notebook(\"projB2.ipynb\")"
   ]
  },
  {
   "cell_type": "markdown",
   "metadata": {},
   "source": [
    "# Project B2: Spam/Ham Classification - Build Your Own Model\n",
    "\n",
    "## Feature Engineering, Classification, and Cross-Validation\n",
    "## Due Date: Thursday, December 5th, 11:59 PM PDT\n",
    "\n",
    "You must submit this assignment to Gradescope by the on-time deadline, Thursday, December 5th, 11:59 PM PDT. Please read the syllabus for the Slip Day policy. No late submissions beyond what is outlined in the Slip Day policy will be accepted. We strongly encourage you to plan to submit your work to Gradescope several hours before the stated deadline. This way, you will have ample time to reach out to staff for support if you encounter difficulties with submission. While course staff is happy to help guide you with submitting your assignment ahead of the deadline, we will not respond to last-minute requests for assistance (TAs need to sleep, after all!).\n",
    "\n",
    "Please read the instructions carefully when submitting your work to Gradescope. \n",
    "\n",
    "## Collaboration Policy\n",
    "\n",
    "Data science is a collaborative activity. While you may talk with others about the project, we ask that you **write your solutions individually**. If you do discuss the assignments with others, please **include their names** in the collaborators cell below."
   ]
  },
  {
   "cell_type": "markdown",
   "metadata": {},
   "source": [
    "**Collaborators**: *list collaborators here*"
   ]
  },
  {
   "cell_type": "markdown",
   "metadata": {
    "nbgrader": {
     "grade": false,
     "grade_id": "proj2",
     "locked": true,
     "schema_version": 2,
     "solution": false
    }
   },
   "source": [
    "## Introduction\n",
    "In this project, you will build and improve on the concepts and functions you implemented in Project B1 to create your own classifier to distinguish spam emails from ham (non-spam) emails. We will evaluate your work based on your model's accuracy and written responses in this notebook.\n",
    "\n",
    "After this assignment, you should feel comfortable with the following:\n",
    "\n",
    "- Using `sklearn` libraries to process data and fit classification models.\n",
    "- Validating the performance of your model and minimizing overfitting.\n",
    "- Generating and analyzing ROC curves.\n",
    "\n",
    "## Content Warning\n",
    "This is a **real-world** dataset —— the emails you are trying to classify are actual spam and legitimate emails. As a result, some of the spam emails may be in poor taste or be considered inappropriate. We think the benefit of working with realistic data outweighs these inappropriate emails, but we wanted to warn you at the beginning of the project so that you are made aware.\n",
    "\n",
    "If you feel uncomfortable with this topic, **please contact your TA, the instructors, or reach out via the [Fall 2024 additional accommodations form](https://docs.google.com/forms/d/e/1FAIpQLScwnGIQjfqWzH2Acx5bEBNZzNeLAdI1_MfR34zPLZl7ezYIoA/viewform).**"
   ]
  },
  {
   "cell_type": "code",
   "execution_count": 125,
   "metadata": {},
   "outputs": [],
   "source": [
    "# Run this cell to suppress all FutureWarnings\n",
    "import warnings\n",
    "warnings.filterwarnings(\"ignore\", category=FutureWarning)"
   ]
  },
  {
   "cell_type": "markdown",
   "metadata": {},
   "source": [
    "## Grading\n",
    "Grading is broken down into autograded answers and free responses. \n",
    "\n",
    "For autograded answers, the results of your code are compared to provided and/or hidden tests.\n",
    "\n",
    "For free response questions, readers will evaluate how well you answered the question and/or fulfilled the requirements of the question.\n",
    "\n",
    "Question | Manual | Points\n",
    "----|----|----\n",
    "1a | Yes | 4\n",
    "1b | Yes | 2\n",
    "2 | No | 0\n",
    "3a | No | 5\n",
    "3b | No | 10\n",
    "4 | Yes | 6\n",
    "5 | Yes | 3\n",
    "6a | Yes | 3\n",
    "6b | Yes | 2\n",
    "7ai | No | 1\n",
    "7aii | Yes | 1\n",
    "7bi | Yes | 1\n",
    "7bii | Yes | 1\n",
    "7c | Yes | 1\n",
    "7d | Yes | 2\n",
    "7e | Yes | 2\n",
    "Total | 12 | 44"
   ]
  },
  {
   "cell_type": "markdown",
   "metadata": {},
   "source": [
    "## Before You Start\n",
    "\n",
    "For each question in the assignment, please write down your answer in the answer cell(s) right below the question. \n",
    "\n",
    "We understand that it is helpful to have extra cells breaking down the process of reaching your final answer. If you happen to create new cells below your answer to run code, **NEVER** add cells between a question cell and the answer cell below it. It will cause errors when we run the autograder, and it will sometimes cause a failure to generate the PDF file.\n",
    "\n",
    "**Important note: The local autograder tests will not be comprehensive. You can pass the automated tests in your notebook but still fail tests in the autograder.** Please be sure to check your results carefully.\n",
    "\n",
    "### Debugging Guide\n",
    "If you run into any technical issues, we highly recommend checking out the [Data 100 Debugging Guide](https://ds100.org/debugging-guide/). This guide contains general questions about Jupyter notebooks / Datahub, Gradescope, common `pandas` errors, RegEx, visualizations, and more."
   ]
  },
  {
   "cell_type": "code",
   "execution_count": 126,
   "metadata": {
    "ExecuteTime": {
     "end_time": "2019-04-03T20:17:41.341673Z",
     "start_time": "2019-04-03T20:17:41.330307Z"
    },
    "nbgrader": {
     "grade": false,
     "grade_id": "imports",
     "locked": true,
     "schema_version": 2,
     "solution": false
    }
   },
   "outputs": [],
   "source": [
    "import numpy as np\n",
    "import pandas as pd\n",
    "import sys\n",
    "\n",
    "import matplotlib.pyplot as plt\n",
    "%matplotlib inline\n",
    "\n",
    "import seaborn as sns\n",
    "sns.set(style = \"whitegrid\", \n",
    "        color_codes = True,\n",
    "        font_scale = 1.5)\n",
    "\n",
    "from datetime import datetime\n",
    "from IPython.display import display, HTML"
   ]
  },
  {
   "cell_type": "markdown",
   "metadata": {
    "nbgrader": {
     "grade": false,
     "grade_id": "p1",
     "locked": true,
     "schema_version": 2,
     "solution": false
    }
   },
   "source": [
    "<br/>\n",
    "<hr style=\"border: 5px solid #003262;\" />\n",
    "<hr style=\"border: 1px solid #fdb515;\" />\n",
    "\n",
    "# Setup and Recap\n",
    "\n",
    "Here, we will provide a summary of Project B1 to remind you of how we cleaned the data, explored it, and implemented methods helpful in building your own model."
   ]
  },
  {
   "cell_type": "markdown",
   "metadata": {
    "nbgrader": {
     "grade": false,
     "grade_id": "loading",
     "locked": true,
     "schema_version": 2,
     "solution": false
    }
   },
   "source": [
    "## Loading and Cleaning Data\n",
    "\n",
    "Remember that in the email classification task, our goal is to classify emails as spam or not spam (referred to as \"ham\") using features generated from the text in the email. \n",
    "\n",
    "The dataset consists of email messages and their labels (0 for ham, 1 for spam). Your labeled training dataset contains 8,348 labeled examples, and the unlabeled test set contains 1,000 unlabeled examples.\n",
    "\n",
    "Run the following cell to load the data into a `DataFrame`.\n",
    "\n",
    "The `train` `DataFrame` contains labeled data that you will use to train your model. It contains four columns:\n",
    "\n",
    "1. `id`: An identifier for the training example.\n",
    "1. `subject`: The subject of the email.\n",
    "1. `email`: The text of the email.\n",
    "1. `spam`: 1 if the email is spam, 0 if the email is ham (not spam).\n",
    "\n",
    "The `test` `DataFrame` contains 1,000 unlabeled emails. You will predict labels for these emails and submit your predictions to the autograder for evaluation."
   ]
  },
  {
   "cell_type": "code",
   "execution_count": 127,
   "metadata": {},
   "outputs": [],
   "source": [
    "import zipfile\n",
    "with zipfile.ZipFile('spam_ham_data.zip') as item:\n",
    "    with item.open(\"train.csv\") as f:\n",
    "        original_training_data = pd.read_csv(f)\n",
    "    with item.open(\"test.csv\") as f:\n",
    "        test = pd.read_csv(f)"
   ]
  },
  {
   "cell_type": "code",
   "execution_count": 128,
   "metadata": {},
   "outputs": [
    {
     "data": {
      "text/html": [
       "<div>\n",
       "<style scoped>\n",
       "    .dataframe tbody tr th:only-of-type {\n",
       "        vertical-align: middle;\n",
       "    }\n",
       "\n",
       "    .dataframe tbody tr th {\n",
       "        vertical-align: top;\n",
       "    }\n",
       "\n",
       "    .dataframe thead th {\n",
       "        text-align: right;\n",
       "    }\n",
       "</style>\n",
       "<table border=\"1\" class=\"dataframe\">\n",
       "  <thead>\n",
       "    <tr style=\"text-align: right;\">\n",
       "      <th></th>\n",
       "      <th>id</th>\n",
       "      <th>subject</th>\n",
       "      <th>email</th>\n",
       "      <th>spam</th>\n",
       "    </tr>\n",
       "  </thead>\n",
       "  <tbody>\n",
       "    <tr>\n",
       "      <th>0</th>\n",
       "      <td>0</td>\n",
       "      <td>Subject: A&amp;L Daily to be auctioned in bankrupt...</td>\n",
       "      <td>url: http://boingboing.net/#85534171\\n date: n...</td>\n",
       "      <td>0</td>\n",
       "    </tr>\n",
       "    <tr>\n",
       "      <th>1</th>\n",
       "      <td>1</td>\n",
       "      <td>Subject: Wired: \"Stronger ties between ISPs an...</td>\n",
       "      <td>url: http://scriptingnews.userland.com/backiss...</td>\n",
       "      <td>0</td>\n",
       "    </tr>\n",
       "    <tr>\n",
       "      <th>2</th>\n",
       "      <td>2</td>\n",
       "      <td>Subject: It's just too small                  ...</td>\n",
       "      <td>&lt;html&gt;\\n &lt;head&gt;\\n &lt;/head&gt;\\n &lt;body&gt;\\n &lt;font siz...</td>\n",
       "      <td>1</td>\n",
       "    </tr>\n",
       "    <tr>\n",
       "      <th>3</th>\n",
       "      <td>3</td>\n",
       "      <td>Subject: liberal defnitions\\n</td>\n",
       "      <td>depends on how much over spending vs. how much...</td>\n",
       "      <td>0</td>\n",
       "    </tr>\n",
       "    <tr>\n",
       "      <th>4</th>\n",
       "      <td>4</td>\n",
       "      <td>Subject: RE: [ILUG] Newbie seeks advice - Suse...</td>\n",
       "      <td>hehe sorry but if you hit caps lock twice the ...</td>\n",
       "      <td>0</td>\n",
       "    </tr>\n",
       "  </tbody>\n",
       "</table>\n",
       "</div>"
      ],
      "text/plain": [
       "   id                                            subject  \\\n",
       "0   0  Subject: A&L Daily to be auctioned in bankrupt...   \n",
       "1   1  Subject: Wired: \"Stronger ties between ISPs an...   \n",
       "2   2  Subject: It's just too small                  ...   \n",
       "3   3                      Subject: liberal defnitions\\n   \n",
       "4   4  Subject: RE: [ILUG] Newbie seeks advice - Suse...   \n",
       "\n",
       "                                               email  spam  \n",
       "0  url: http://boingboing.net/#85534171\\n date: n...     0  \n",
       "1  url: http://scriptingnews.userland.com/backiss...     0  \n",
       "2  <html>\\n <head>\\n </head>\\n <body>\\n <font siz...     1  \n",
       "3  depends on how much over spending vs. how much...     0  \n",
       "4  hehe sorry but if you hit caps lock twice the ...     0  "
      ]
     },
     "execution_count": 128,
     "metadata": {},
     "output_type": "execute_result"
    }
   ],
   "source": [
    "# Convert the emails to lowercase as the first step of text processing.\n",
    "original_training_data['email'] = original_training_data['email'].str.lower()\n",
    "test['email'] = test['email'].str.lower()\n",
    "\n",
    "original_training_data.head()"
   ]
  },
  {
   "cell_type": "markdown",
   "metadata": {},
   "source": [
    "Feel free to explore the dataset above along with any specific spam and ham emails that interest you. Keep in mind that our data may contain missing values, which are handled in the following cell."
   ]
  },
  {
   "cell_type": "code",
   "execution_count": 129,
   "metadata": {
    "ExecuteTime": {
     "end_time": "2019-04-03T20:17:42.203231Z",
     "start_time": "2019-04-03T20:17:42.185104Z"
    },
    "nbgrader": {
     "grade": false,
     "grade_id": "cell-b1fb39d9b651ca1b",
     "locked": false,
     "schema_version": 2,
     "solution": true
    }
   },
   "outputs": [
    {
     "name": "stdout",
     "output_type": "stream",
     "text": [
      "Before imputation:\n",
      "id         0\n",
      "subject    6\n",
      "email      0\n",
      "spam       0\n",
      "dtype: int64\n",
      "------------\n",
      "After imputation:\n",
      "id         0\n",
      "subject    0\n",
      "email      0\n",
      "spam       0\n",
      "dtype: int64\n"
     ]
    }
   ],
   "source": [
    "# Fill any missing or NAN values.\n",
    "print('Before imputation:')\n",
    "print(original_training_data.isnull().sum())\n",
    "original_training_data = original_training_data.fillna('')\n",
    "print('------------')\n",
    "print('After imputation:')\n",
    "print(original_training_data.isnull().sum())"
   ]
  },
  {
   "cell_type": "markdown",
   "metadata": {},
   "source": [
    "## Training/Validation Split\n",
    "\n",
    "Recall that the training data we downloaded is all the data we have available for both training models and **validating** the models that we train. Therefore, we split the training data into separate training and validation datasets. Once you have finished training, you will need this validation data to assess the performance of your classifier. \n",
    "\n",
    "As in Project B1, we set the seed (`random_state`) to 42. **Do not modify this in the following questions, as our tests depend on this random seed.**"
   ]
  },
  {
   "cell_type": "code",
   "execution_count": 130,
   "metadata": {
    "ExecuteTime": {
     "end_time": "2019-04-03T20:17:42.317970Z",
     "start_time": "2019-04-03T20:17:42.294532Z"
    },
    "nbgrader": {
     "grade": false,
     "grade_id": "cell-873194ed3e686dfb",
     "locked": true,
     "schema_version": 2,
     "solution": false
    }
   },
   "outputs": [],
   "source": [
    "# This creates a 90/10 train-validation split on our labeled data.\n",
    "from sklearn.model_selection import train_test_split\n",
    "train, val = train_test_split(original_training_data, test_size = 0.1, random_state = 42)\n",
    "\n",
    "# We must do this in order to preserve the ordering of emails to labels for words_in_texts.\n",
    "train = train.reset_index(drop = True)"
   ]
  },
  {
   "cell_type": "markdown",
   "metadata": {
    "nbgrader": {
     "grade": false,
     "grade_id": "feat-eng",
     "locked": true,
     "schema_version": 2,
     "solution": false
    }
   },
   "source": [
    "## Feature Engineering\n",
    "\n",
    "We need a numeric feature matrix $\\mathbb{X}$ and a vector of corresponding binary labels $\\mathbb{Y}$ to train a logistic regression model. In Project B1, we implemented the function `words_in_texts`, which creates numeric features derived from the email text and uses those features for logistic regression. \n",
    "\n",
    "For this project, we have provided you with an implemented version of `words_in_texts`. Remember that the function outputs a 2-dimensional `NumPy` array containing one row for each email text. The row should contain a 0 or a 1 for each word in the list: 0 if the word doesn't appear in the text and 1 if the word does. \n",
    "\n",
    "Run the following cell to see how the function works on some text."
   ]
  },
  {
   "cell_type": "code",
   "execution_count": 131,
   "metadata": {},
   "outputs": [
    {
     "data": {
      "text/plain": [
       "array([[1, 0, 0],\n",
       "       [1, 0, 1]])"
      ]
     },
     "execution_count": 131,
     "metadata": {},
     "output_type": "execute_result"
    }
   ],
   "source": [
    "from projB2_utils import words_in_texts\n",
    "\n",
    "words_in_texts(['hello', 'bye', 'world'], pd.Series(['hello', 'hello worldhello']))"
   ]
  },
  {
   "cell_type": "markdown",
   "metadata": {
    "nbgrader": {
     "grade": false,
     "grade_id": "classification",
     "locked": true,
     "schema_version": 2,
     "solution": false
    }
   },
   "source": [
    "## EDA and Basic Classification\n",
    "\n",
    "In Project B1, we visualized the frequency of different words in spam and ham emails and used `words_in_texts(words, train['email'])` to train a classifier directly. We also provided a simple set of 5 words that might be useful as features to distinguish spam/ham emails. \n",
    "\n",
    "We then built a model using the [`LogisticRegression`](http://scikit-learn.org/stable/modules/generated/sklearn.linear_model.LogisticRegression.html) classifier from `sklearn`.\n",
    "\n",
    "Run the following cell to see the performance of a simple model using these words and the `train` `DataFrame`."
   ]
  },
  {
   "cell_type": "code",
   "execution_count": 132,
   "metadata": {
    "ExecuteTime": {
     "end_time": "2019-04-03T20:17:43.726012Z",
     "start_time": "2019-04-03T20:17:43.498088Z"
    },
    "nbgrader": {
     "grade": false,
     "grade_id": "q4-answer",
     "locked": false,
     "schema_version": 2,
     "solution": true
    },
    "tags": [
     "student"
    ]
   },
   "outputs": [
    {
     "data": {
      "text/plain": [
       "(array([[0, 0, 0, 0, 0],\n",
       "        [0, 0, 0, 0, 0],\n",
       "        [0, 0, 0, 0, 0],\n",
       "        [0, 0, 0, 0, 0],\n",
       "        [0, 0, 0, 1, 0]]),\n",
       " array([0, 0, 0, 0, 0]))"
      ]
     },
     "execution_count": 132,
     "metadata": {},
     "output_type": "execute_result"
    }
   ],
   "source": [
    "some_words = ['drug', 'bank', 'prescription', 'memo', 'private']\n",
    "\n",
    "X_train = words_in_texts(some_words, train['email'])\n",
    "Y_train = np.array(train['spam'])\n",
    "\n",
    "X_train[:5], Y_train[:5]"
   ]
  },
  {
   "cell_type": "code",
   "execution_count": 133,
   "metadata": {
    "ExecuteTime": {
     "end_time": "2019-04-03T20:17:44.593918Z",
     "start_time": "2019-04-03T20:17:43.783872Z"
    },
    "nbgrader": {
     "grade": false,
     "grade_id": "q5-answer",
     "locked": false,
     "schema_version": 2,
     "solution": true
    },
    "tags": [
     "student"
    ]
   },
   "outputs": [
    {
     "name": "stdout",
     "output_type": "stream",
     "text": [
      "Training Accuracy:  0.7576201251164648\n"
     ]
    }
   ],
   "source": [
    "from sklearn.linear_model import LogisticRegression\n",
    "\n",
    "simple_model = LogisticRegression()\n",
    "simple_model.fit(X_train, Y_train)\n",
    "\n",
    "training_accuracy = simple_model.score(X_train, Y_train)\n",
    "print(\"Training Accuracy: \", training_accuracy)"
   ]
  },
  {
   "cell_type": "markdown",
   "metadata": {},
   "source": [
    "## Evaluating Classifiers"
   ]
  },
  {
   "cell_type": "markdown",
   "metadata": {},
   "source": [
    "In our models, we evaluate the accuracy of the training set, which may provide a misleading accuracy measure. In Project B1, we calculated various metrics to consider other ways of evaluating a classifier, in addition to overall accuracy. Below is a reference to those concepts.\n",
    "\n",
    "Presumably, our classifier will be used for **filtering**, or preventing messages labeled `spam` from reaching someone's inbox. There are two kinds of errors we can make:\n",
    "- **False positive (FP)**: A ham email gets flagged as spam and filtered out of the inbox.\n",
    "- **False negative (FN)**: A spam email gets mislabeled as ham and ends up in the inbox.\n",
    "\n",
    "To be clear, we label spam emails as 1 and ham emails as 0. These definitions depend both on the true labels and the predicted labels. False positives and false negatives may be of differing importance, leading us to consider more ways of evaluating a classifier in addition to overall accuracy:\n",
    "\n",
    "**Precision**: Measures the proportion of emails flagged as spam that are actually spam. Mathematically, $\\frac{\\text{TP}}{\\text{TP} + \\text{FP}}$.\n",
    "\n",
    "**Recall**: Measures the proportion  of spam emails that were correctly flagged as spam. Mathematically, $\\frac{\\text{TP}}{\\text{TP} + \\text{FN}}$.\n",
    "\n",
    "**False positive rate**: Measures the proportion  of ham emails that were incorrectly flagged as spam. Mathematically, $\\frac{\\text{FP}}{\\text{FP} + \\text{TN}}$.\n",
    "\n",
    "The below graphic (modified slightly from [Wikipedia](https://en.wikipedia.org/wiki/Precision_and_recall)) may help you understand precision and recall visually:<br />\n",
    "<center>\n",
    "<img alt=\"precision_recall\" src=\"precision_recall.png\" width=\"600px;\" />\n",
    "</center>\n",
    "\n",
    "Note that a True Positive (TP) is a spam email that is classified as spam, and a True Negative (TN) is a ham email that is classified as ham."
   ]
  },
  {
   "cell_type": "markdown",
   "metadata": {
    "nbgrader": {
     "grade": false,
     "grade_id": "p2",
     "locked": true,
     "schema_version": 2,
     "solution": false
    }
   },
   "source": [
    "<br/>\n",
    "<hr style=\"border: 1px solid #fdb515;\" />\n",
    "\n",
    "# Moving Forward\n",
    "\n",
    "With this in mind, it is now your task to make the spam filter more accurate. To get full credit on the accuracy part of this assignment, you must get at least **85%** accuracy on both the train and test set (see Question 3 for the partial credit breakdown). To determine your accuracy on the test set, you will use your classifier to predict every email in the `test` `DataFrame` and upload your predictions to Gradescope.\n",
    "\n",
    "**You will only be able to submit your test set predictions to Gradescope up to 4 times per day**. You will be able to see your accuracy on the entire test set when submitting to Gradescope. Note that attempts will not carry over across days, so we recommend planning ahead to make sure you have enough time to finetune your model! In the case that you are approved for an extension, you are granted 4 more submissions for each day the deadline has been extended.\n",
    "\n",
    "Here are some ideas for improving your model:\n",
    "\n",
    "1. Finding better features based on the email text. Some example features are:\n",
    "    1. Number of characters in the subject/body\n",
    "    1. Number of words in the subject/body\n",
    "    1. Use of punctuation (e.g., how many '!'s were there?)\n",
    "    1. Number/percentage of capital letters \n",
    "    1. Whether the email is a reply to an earlier email or a forwarded email\n",
    "1. Finding better words to use as features. Which words are the best at distinguishing emails? This requires digging into the email text itself. Alternatively, you can identify misclassified emails and see which relevant words are missing in your model.\n",
    "1. Reducing dimensionality and/or multicollinearity. There are a few methods to achieve this:\n",
    "    1. Interpret the model coefficients. Note that a feature will be more valuable in classification if its coefficient has a larger **absolute** value. If the coefficient has a lower **absolute** value, the feature likely isn't valuable in classifying emails.\n",
    "1. Better data processing. For example, many emails contain HTML as well as text. You can consider extracting the text from the HTML to help you find better words. Or, you can match HTML tags themselves, or even some combination of the two.\n",
    "1. Model selection. You can adjust the parameters of your model (e.g. the penalty type, the regularization parameter, or any arguments in `LogisticRegression`) to achieve higher accuracy. Recall that you should use cross-validation for feature and model selection! Otherwise, you will likely overfit to your training data.\n",
    "    1. Consider implementing L1 regularization. The [documentation](https://scikit-learn.org/stable/modules/generated/sklearn.linear_model.LogisticRegression.html) for `LogisticRegression` may be helpful here. \n",
    "    1. We have imported `GridSearchCV` for you. You may use sklearn's `GridSearchCV` ([documentation](https://scikit-learn.org/stable/modules/generated/sklearn.model_selection.GridSearchCV.html)) class to perform cross-validation. You do not need to code cross-validation from scratch, though you are welcome to do so.\n",
    "\n",
    "Here's an example of how to use `GridSearchCV`. Suppose we wanted to experiment with 4 different solvers (numerical methods for optimizing the mode) models for a `LogisticRegression` model `lr_model`. \n",
    "1. We could define a dictionary specifying the hyperparameters and the specific values we want to try out like so: `parameters = {'solver':[{'lbfgs', 'liblinear', 'newton-cg', 'saga']}`.\n",
    "2. Running `grid = GridSearchCV(estimator=lr_model, param_grid=parameters)` would give us a model for each combination of hyperparameters we are testing - in this case, just 4 models.\n",
    "3. We fit each model to some training data `X_train` and `Y_train` using `grid_result = grid.fit(X_train, Y_train)`.\n",
    "4. Indexing into `grid_result.cv_results_` with a particular metric (in this case, `mean_test_score`), we get an array with the scores corresponding to each of the models. `grid_result.cv_results_['mean_test_score']`.\n",
    "Feel free to experiment with other hyperparameters and metrics as well. The documentation is your friend!     \n",
    "       \n",
    "You may use whatever method you prefer to create features, but **you may only use the packages we've imported for you in the cell below or earlier in this notebook**. In addition, **you are only allowed to train logistic regression models**. No decision trees, random forests, k-nearest-neighbors, neural nets, etc. \n",
    "\n",
    "**Note 1:** You may want to use your **validation data** to evaluate your model and get a better sense of how it will perform on the test set. However, you may overfit to your validation set if you try to optimize your validation accuracy too much. Alternatively, you can perform cross-validation on the entire training set.\n",
    "\n",
    "**Note 2:** If you see a `ConvergenceWarning`, increase the maximum number of iterations the model runs for by passing in a parameter, `max_iter`, into `LogisticRegression()`. This should get rid of the warning. For a longer discussion on why this warning appears, you might find [this StackOverflow post](https://stackoverflow.com/questions/62658215/convergencewarning-lbfgs-failed-to-converge-status-1-stop-total-no-of-iter) helpful. Convergence of solvers is not in scope for Data 100, but by understanding what the error messages are saying, you can get some useful context on what to do in these situations."
   ]
  },
  {
   "cell_type": "markdown",
   "metadata": {},
   "source": [
    "<br/>\n",
    "<hr style=\"border: 1px solid #fdb515;\" />\n",
    "\n",
    "# Question 1: Exploratory Data Analysis\n",
    "\n",
    "To decide which features to use when building your model, it is helpful to conduct EDA. Show a visualization you used to select features for your model. \n",
    "\n",
    "Please include:\n",
    "\n",
    "1. A plot showing something meaningful about the data that helped you during feature selection, model selection, or both.\n",
    "2. Two or three sentences describing what you plotted and its implications with respect to your features.\n",
    "\n",
    "You can create as many plots as you want in your feature selection process, but you should select only one for the response question below.\n",
    "\n",
    "**You should not just produce an identical visualization to Question 3 in Project B1.** For this section, we’d like you to go beyond the analysis you performed in Project B1. Choose some plot other than the 1-dimensional distribution of some quantity for spam and ham emails. In particular, do not produce a bar plot of proportions like you created in Question 3 of Project B1. Any other plot is acceptable, **as long as it comes with thoughtful commentary.** Here are some ideas:\n",
    "\n",
    "1. Consider the correlation between multiple features (look up correlation plots and `sns.heatmap` ([documentation](https://seaborn.pydata.org/generated/seaborn.heatmap.html))). \n",
    "1. Try to show redundancy in a group of features (e.g., `body` and `html` might co-occur relatively frequently, or you might be able to design a feature that captures all HTML tags and compares them to these). \n",
    "1. Visualize which words have high or low values for helpful statistics.\n",
    "1. Visually depict whether spam emails tend to be wordier (in some sense) than ham emails."
   ]
  },
  {
   "cell_type": "markdown",
   "metadata": {
    "deletable": false,
    "editable": false
   },
   "source": [
    "<!-- BEGIN QUESTION -->\n",
    "\n",
    "<br>\n",
    "\n",
    "---\n",
    "\n",
    "## Question 1a\n",
    "\n",
    "Generate your visualization in the cell below.\n"
   ]
  },
  {
   "cell_type": "code",
   "execution_count": 134,
   "metadata": {},
   "outputs": [
    {
     "name": "stdout",
     "output_type": "stream",
     "text": [
      "Email Index 0 (Ham):\n",
      "url: http://boingboing.net/#85534171\n",
      " date: not supplied\n",
      " \n",
      " arts and letters daily, a wonderful and dense blog, has folded up its tent due \n",
      " to the bankruptcy of its parent company. a&l daily will be auctioned off by the \n",
      " receivers. link[1] discuss[2] (_thanks, misha!_)\n",
      " \n",
      " [1] http://www.aldaily.com/\n",
      " [2] http://www.quicktopic.com/boing/h/zlfterjnd6jf\n",
      " \n",
      " \n",
      "\n",
      "\n",
      "--------------------------------------------------\n",
      "\n",
      "Email Index 1 (Ham):\n",
      "url: http://scriptingnews.userland.com/backissues/2002/09/25#when:8:33:10am\n",
      " date: wed, 25 sep 2002 15:33:10 gmt\n",
      " \n",
      " wired[1]: \"stronger ties between isps and file-trading companies could bolster \n",
      " kazaa's defenses.\"\n",
      " \n",
      " [1] http://www.wired.com/news/mp3/0,1285,55356,00.html\n",
      " \n",
      " \n",
      "\n",
      "\n",
      "--------------------------------------------------\n",
      "\n",
      "Email Index 3 (Ham):\n",
      "depends on how much over spending vs. how much (and what type) over\n",
      " regulation.\n",
      " \n",
      " the biggest problem with over regulation is the costs can be invisible.\n",
      " it also has the ability to single out particular people, while over\n",
      " spending spreads the damage more evenly.  rent control would be an\n",
      " example of a regulation solution that is in general worse than spending\n",
      " tons of money on public housing.\n",
      " \n",
      " as for the definition of a liberal being someone who seeks to impose\n",
      " both, i find no fault in that definition whatsoever.  the opinion that\n",
      " either we are spending too much or we have too much regulation is pretty\n",
      " much anathema to liberal politics.\n",
      " \n",
      " finally, those who argue that there are private replacements for much\n",
      " government regulation are not saying that a state of nature (no private\n",
      " replacements, no government regulation) is better than government\n",
      " regulation itself.\n",
      " \n",
      " and in my experience people who label themselves 'green' (which does not\n",
      " include everyone who loves trees and thinks smokestacks are ugly) is a\n",
      " watermelon.\n",
      " \n",
      " \n",
      " \n",
      " \n",
      " > -----original message-----\n",
      " > from: fork-admin@xent.com [mailto:fork-admin@xent.com] on behalf of\n",
      " geege\n",
      " > schuman\n",
      " > \n",
      " > funny. i read it as green = red, as in accounting, as in fiscally\n",
      " > irresponsible.  which do you think is the worse indictment -\n",
      " > overregulation\n",
      " > or overspending?  there are many (dickheads) who buy into the\n",
      " > neo-conservative media's (fox's) definiton of \"liberal\" as \"one who\n",
      " seeks\n",
      " > to\n",
      " > impose both.\"\n",
      " \n",
      " \n",
      "\n",
      "\n",
      "--------------------------------------------------\n",
      "\n",
      "Email Index 4 (Ham):\n",
      "hehe sorry but if you hit caps lock twice the computer crashes?  theres one\n",
      " ive never heard before... have you tryed dell support yet? i think dell\n",
      " computers prefer redhat... (dell provide some computers pre-loaded with red\n",
      " hat) i dont know for sure tho! so get someone elses opnion as well as\n",
      " mine...\n",
      " \n",
      " -----original message-----\n",
      " from: ilug-admin@linux.ie [mailto:ilug-admin@linux.ie]on behalf of peter\n",
      " staunton\n",
      " sent: 22 august 2002 19:58\n",
      " to: ilug@linux.ie\n",
      " subject: [ilug] newbie seeks advice - suse 7.2\n",
      " \n",
      " \n",
      " folks,\n",
      " \n",
      " my first time posting - have a bit of unix experience, but am new to linux.\n",
      " \n",
      " \n",
      " just got a new pc at home - dell box with windows xp. added a second hard\n",
      " disk\n",
      " for linux. partitioned the disk and have installed suse 7.2 from cd, which\n",
      " went\n",
      " fine except it didn't pick up my monitor.\n",
      " \n",
      " i have a dell branded e151fpp 15\" lcd flat panel monitor and a nvidia\n",
      " geforce4\n",
      " ti4200 video card, both of which are probably too new to feature in suse's\n",
      " default\n",
      " set. i downloaded a driver from the nvidia website and installed it using\n",
      " rpm.\n",
      " then i ran sax2 (as was recommended in some postings i found on the net),\n",
      " but\n",
      " it still doesn't feature my video card in the available list. what next?\n",
      " \n",
      " another problem. i have a dell branded keyboard and if i hit caps-lock\n",
      " twice,\n",
      " the whole machine crashes (in linux, not windows) - even the on/off switch\n",
      " is\n",
      " inactive, leaving me to reach for the power cable instead.\n",
      " \n",
      " if anyone can help me in any way with these probs., i'd be really grateful -\n",
      " i've searched the 'net but have run out of ideas.\n",
      " \n",
      " or should i be going for a different version of linux such as redhat?\n",
      " opinions\n",
      " welcome.\n",
      " \n",
      " thanks a lot,\n",
      " peter\n",
      " \n",
      " --\n",
      " irish linux users' group: ilug@linux.ie\n",
      " http://www.linux.ie/mailman/listinfo/ilug for (un)subscription information.\n",
      " list maintainer: listmaster@linux.ie\n",
      " \n",
      " \n",
      " -- \n",
      " irish linux users' group: ilug@linux.ie\n",
      " http://www.linux.ie/mailman/listinfo/ilug for (un)subscription information.\n",
      " list maintainer: listmaster@linux.ie\n",
      " \n",
      "\n",
      "\n",
      "--------------------------------------------------\n",
      "\n",
      "Email Index 5 (Ham):\n",
      "url: http://diveintomark.org/archives/2002/10/09.html#five\n",
      " date: 2002-10-09t10:25:09-05:00\n",
      " \n",
      " - _osnews.com_: red hat 8.0 for kde users (and newbies)[1]. \n",
      " - _aaron swartz_: trip notes[2]. \n",
      " - _sean palmer_: the semantic web in haiku[3]. \n",
      " - _shelley powers_: the parable of the languages[4]. \n",
      " - _heather hamilton_: you only get five[5]. (mira sorvino[6], portia de rossi\n",
      " [7], stockard channing[8], jeri ryan[9] nigella lawson[10], and angelina jolie\n",
      " [11]. d gave me her list but wouldn't let me post it. meh.) \n",
      " \n",
      " \n",
      " \n",
      " \n",
      " \n",
      " [1]  http://www.osnews.com/story.php?news_id=1890\n",
      " [2]  http://www.aaronsw.com/weblog/000647\n",
      " [3]  http://infomesh.net/2002/swhaiku/\n",
      " [4]  http://weblog.burningbird.net/archives/000581.php\n",
      " [5]  http://www.dooce.com/mtarchives/10_08_2002.html\n",
      " [6]  http://www.elegantwomen.net/mirasorvino/009.html\n",
      " [7]  http://www.safesearching.com/portiaderossi/gallery/\n",
      " [8]  http://images.amazon.com/images/p/0792846486.01.lzzzzzzz.jpg\n",
      " [9]  http://www.elegantwomen.net/jeriryan/003.html\n",
      " [10] http://www.stylenetwork.com/shows/nigella/gallery/index.html\n",
      " [11] http://www.elegantwomen.net/angelinajolie/009.html\n",
      " \n",
      " \n",
      "\n",
      "\n",
      "--------------------------------------------------\n",
      "\n",
      "Email Index 36 (Spam):\n",
      "\n",
      " educate yourself about everything you ever wanted to know !!! \n",
      " \n",
      " \n",
      " \n",
      " 1. satellite tv/rca dish descrambler\n",
      " \n",
      " our unique, complete plans for building your own home satellite tv descrambler. for access to a clear reception of pay tv signals on your home satellite dish! it does not require any additional equipment! complete pc board template & instructions! this also includes a manual for accessing the rca/dss satellite dish to receive free pay channels. all the latest information for doing it right. \n",
      " \n",
      " 2. x-ray envelope spray\n",
      " \n",
      " have you ever wanted to read the contents of an envelope without opening it? many government and other organizations use what is known as x-ray envelope spray to do this! an envelope is sprayed with this secret chemical and it becomes translucent for a short period of time, which allows the contents to be read without opening. private supply houses sell small cans of this aerosol spray for up to $50 a can! the spray is actually a commonly available item found in major grocery and discount stores. no modification of the spray is needed, as it is ready to use as x-ray envelope spray and sells for about $1.99 in retail stores!\n",
      " \n",
      " 3. how to find anyone and obtain unlisted phone numbers\n",
      " \n",
      " tired of getting the wrong number? stop looking! we can help! we'll show you how to get the unlisted phone number of anyone. no one can hide now! simple. skip tracers use these tricks. we also include everything you need to know about finding missing people or loved ones from the comfort of your home. why pay money when you can do it yourself? \n",
      " \n",
      " 4. radar zapper \n",
      " \n",
      " this simply technique converts existing radar detectors into a device that will jam police radar. this device sends false readings back to the police radar! works on virtually all detectors and easy to use!\n",
      " \n",
      " 5. untraceable e-mail \n",
      " \n",
      " how to send totally anonymous and untraceable e-mail. we're not talking about those generic yahoo! accounts -- this is the real mccoy, anonymous email. everything explained. absolutely untraceable.\n",
      " \n",
      " 6. underground guide to utility meters\n",
      " \n",
      " the illustrated guide to gas, water & electric meters! we show you in detail methods many people use to stop, slow down, even reverse all three types! this underground manual is one of our most popular items! complete illustrated techniques and easy to do. shows how to defeat all major brands & models of gas, water & electric meters.\n",
      " \n",
      " 7. scan-tron genius\n",
      " \n",
      " here at last!! this very controversial report describes in detail how any student can easily defeat scan-tron test readers to pass a test even though he does not know the answer! this simple method will fool the scan reader into thinking you answered correctly! no tools needed. completely tested. you won't believe how simple this method is!\n",
      " \n",
      " 8. bad credit cleaning manual\n",
      " \n",
      " simple ways to restore your bad credit rating to a++. don't pay a credit counselor good money to do what you can do yourself. many methods presented here - some legal & some \"not so legal\". wipe your slate clean from your own home. get a fresh start.\n",
      " \n",
      " 9. pass drug tests \n",
      " \n",
      " don't use of drugs! however, many innocent people are victims of drug testing. some over the counter medicine can trigger false results & cost you your job. proven methods to beat drug tests. we show you how to build a simple device that can fool the best! protect yourself & your job, even if you don't use drugs.\n",
      " \n",
      " 10.cable tv decoders\n",
      " \n",
      " how to get cable tv and turn your converter box into \"full service\" mode. this is the latest and best way to gain access. also, how to build your own \"snooper stopper\" for pennies. prevents cable companies from spying on you.\n",
      " \n",
      " 11. free long distance\n",
      " \n",
      " you can make long distance calls to other countries at no cost! the information in these reports explains everything you need to call other countries! country codes, city codes, overseas sender codes! call england, germany, the uk, practically anywhere!\n",
      " \n",
      " 12. dissolving checks\n",
      " \n",
      " we show you in detail the \"insufficient funds\" checks scam used by people to obtain goods & cash without having any money in the account. many people do not even use false id's in pulling this scam off. complete detailed instructions plus rare information on the famous \"dissolving\" checks. these checks \"dissolve\" after being chemically coated & deposited in the bank leaving no trace of the writer or account number. not for illegal purposes. see how others do it. \n",
      " \n",
      " 13. outsmart lie detector tests\n",
      " \n",
      " hundreds of thousands of people in this country are wrongfully fired or not hired simply because they did not pass the lie detector test even though they've done nothing wrong! read drugless methods to help pass whether you are lying or not! a valuable tool for any job seeker. don't be harassed by your employer ever again. tested and proven.\n",
      " \n",
      " 14. lock-picks & lock-picking.\n",
      " \n",
      "  why buy expensive lock-picks & pay for rip-off mail order locksmith courses? we'll show you how to make your own professional lock-picks. exact detailed drawings & construction techniques! this is perhaps the easiest to understand course ever published on this hush-hush subject. you won't believe how easy it is to make these tools! we also show you how a basic lock works & how they are picked. this publication is complete with detailed drawings & illustrations.\n",
      " \n",
      " 15. guaranteed unsecured credit cards up to $50,000 regardless of bad credit.\n",
      " \n",
      " we can show you how and where you can obtain unsecured gold and platinum credit cards with credits limits up to $50,000 per card!  regardless of your past credit history! you are guaranteed to receive at least 2 unsecured credit cards of up to $20,000 through our exclusive list. the secret to getting the credit you deserve is knowing how and where to look!\n",
      " \n",
      " * no credit checks! no employment check!\n",
      " * no credit turndowns! no credit, bad credit! \n",
      " * some with as low as 0% apr for the life of the card!\n",
      " * guaranteed approval! \n",
      " \n",
      " \n",
      " all in one!!! previously sold for hundreds!!! order now!!!\n",
      " \n",
      " that's 15 products, all for just $19.95 [shipping & handling included].\n",
      " \n",
      " we accept cash, personal checks, money orders and cashiers checks. you must include a \n",
      " \n",
      " primary and secondary e-mail address, as we will be emailing you all the reports as soon as your payment is received.\n",
      " \n",
      " print the following form & mail it to:\n",
      " \n",
      " info 4 edu only\n",
      " 1300 n. cahuenga blvd # 362\n",
      " los angeles, ca 90028\n",
      " \n",
      " \n",
      " please print clearly\n",
      " \n",
      " name: _________________________________________________\n",
      " \n",
      " primary email address: ___________________________________\n",
      " \n",
      " secondary email address: _________________________________\n",
      " \n",
      " make your check payable to: info 4 edu only\n",
      " \n",
      " disclaimer: please note that this information is being provided for educational purposes only. the information itself is legal, while the usage of such information may be illegal. we do not advocate unauthorized use or theft of any services. if in doubt, check your local laws and act accordingly. \n",
      " note: all of the publications are copyright 2001 by info 4 edu only. we aggressively protect our copyrights and will seek prosecution of any website, web-master, web hosting service or anyone else that is in violation of us & international copyright laws. \n",
      " \n",
      " \n",
      " \n",
      " \n",
      " \n",
      " \n",
      " \n",
      " to be opt out from our future mailing please email optmeoutnow@aol.com with the word remove in the subject line\n",
      " \n",
      " \n",
      " \n",
      "\n",
      "\n",
      "--------------------------------------------------\n",
      "\n",
      "Email Index 68 (Spam):\n",
      "this is a multi-part message in mime format.\n",
      " \n",
      " ------_nextpart_3402248108\n",
      " content-type: text/plain; charset=\"iso-8859-1\"\n",
      " content-transfer-encoding: quoted-printable\n",
      " \n",
      " \n",
      "       =93connecting your business to the world wide web=94\n",
      " \n",
      " \n",
      " how many shoppers are \n",
      " you losing?\n",
      " the figure would amaze you! \n",
      " \n",
      " how are you losing them?\n",
      " they cannot find your web site!\n",
      " a simple equation\n",
      " not being found =3d losing new customers!\n",
      " \n",
      "  we can change that!\n",
      " \n",
      " \n",
      " for only $119.97 \n",
      " \n",
      " we will submit your website to over 360 major search engines around the world \n",
      " (see full list on our web site.) \n",
      " \n",
      " but more than that \n",
      " we will research the best and most effective meta tags and keywords to use \n",
      " on your web site so that you will rise in the search engine listings \n",
      " so new customers can find you!\n",
      " \n",
      " don't lose any more customers!\n",
      " \n",
      " \n",
      " let us professionally manage the submission of your web site \n",
      " and get it found and seen on the worlds search engines!\n",
      " click on this link \n",
      " click here!\n",
      " to discover the power of \n",
      " \n",
      "  =93connecting your business to the world wide web=94\n",
      " \n",
      " \n",
      " \n",
      " \n",
      " \n",
      " \n",
      "   \n",
      " \n",
      " \n",
      " ------_nextpart_3402248108\n",
      " content-type: text/html; charset=\"iso-8859-1\"\n",
      " content-transfer-encoding: quoted-printable\n",
      " \n",
      " <meta http-equiv=3d\"content-type\" content=3d\"text/html;charset=3diso-8859-1\">\n",
      " <meta http-equiv=3d\"content-type\" content=3d\"text/html;charset=3diso-8859-1\">\n",
      " <meta http-equiv=3d\"content-type\" content=3d\"text/html;charset=3diso-8859-1\">\n",
      " <html>\n",
      " \n",
      " <head>\n",
      " <meta http-equiv=3d\"content-language\" content=3d\"en-gb\">\n",
      " <meta name=3d\"generator\" content=3d\"microsoft frontpage 5.0\">\n",
      " <meta name=3d\"progid\" content=3d\"frontpage.editor.document\">\n",
      " <meta http-equiv=3d\"content-type\" content=3d\"text/html; charset=3dwindows-1252\">\n",
      " <title>world web connect:::::::::::the best web solutions!!!</title>\n",
      " <base target=3d\"contents\">\n",
      " </head>\n",
      " \n",
      " <body leftmargin=3d0 topmargin=3d0>\n",
      " <table id=3dautonumber1 style=3d\"border-collapse: collapse\" bordercolor=3d#111111 \n",
      " height=3d33 cellspacing=3d0 cellpadding=3d0 width=3d\"100%\" border=3d0>\n",
      "   <tbody>\n",
      "   <tr>\n",
      "     <td width=3d\"50%\" background=3dhttp://www.worldwebconnect.com/images/fon01.gif \n",
      "     height=3d33>\n",
      "       <p style=3d\"margin-top: 0px; margin-bottom: 0px\"><img height=3d35 \n",
      "       src=3d\"http://www.worldwebconnect.com/images/logo.gif\" width=3d315 \n",
      "       border=3d0></p></td></tr></tbody></table>\n",
      " <table id=3dautonumber2 style=3d\"border-collapse: collapse\" bordercolor=3d#111111 \n",
      " cellspacing=3d0 cellpadding=3d0 width=3d\"100%\" border=3d0>\n",
      "   <tbody>\n",
      "   <tr>\n",
      "     <td width=3d\"41%\" \n",
      "       background=3dhttp://www.worldwebconnect.com/images/fon03.gif><p \n",
      "       class=3dmsonormal \n",
      "       style=3d\"margin-top: 0px; margin-bottom: 0px; text-align: left\" \n",
      "       align=3dcenter><i><span lang=3den-gb \n",
      "       style=3d\"font-size: 8pt; color: #ffcc00; font-family: arial\">&nbsp;&nbsp;&nbsp;&nbsp;&nbsp; \n",
      "       =93connecting your business to the world wide web=94</span></i></p></td>\n",
      "     <td width=3d\"59%\" background=3dhttp://www.worldwebconnect.com/images/back.gif>\n",
      "       <p \n",
      " style=3d\"margin-top: 0px; margin-bottom: 0px\">&nbsp;</p></td></tr></tbody></table>\n",
      " <p style=3d\"margin-top: 0px; margin-bottom: 0px\" align=3dcenter><img height=3d28 \n",
      " src=3d\"http://www.worldwebconnect.com/images/tn_pic01.gif\" width=3d151 border=3d0><img \n",
      " height=3d28 src=3d\"http://www.worldwebconnect.com/images/tn_pic02.gif\" width=3d138 \n",
      " border=3d0></p>\n",
      " <div align=3dcenter>\n",
      " <center>\n",
      " <table id=3dautonumber3 style=3d\"border-collapse: collapse\" bordercolor=3d#111111 \n",
      " height=3d288 cellspacing=3d1 width=3d\"100%\" border=3d0>\n",
      "   <tbody>\n",
      "   <tr>\n",
      "     <td width=3d\"91%\" height=3d258>\n",
      "       <p style=3d\"margin-top: 0px; margin-bottom: 0px\" align=3dcenter><font \n",
      "       face=3d\"arial black\" color=3d#ff0000><span lang=3den-us><strong><font size=3d6>how \n",
      "       many shoppers are</font></strong><font size=3d6> </font></span></font></p>\n",
      "       <p style=3d\"margin-top: 0px; margin-bottom: 0px\" align=3dcenter><font \n",
      "       face=3d\"arial black\"><span lang=3den-us><font color=3d#ff0000 size=3d7>you \n",
      "       losing?</font></span></font><o:p></o:p></p>\n",
      "       <p class=3dmsotitle style=3d\"margin: 0px 0cm\" align=3dcenter><font \n",
      "       color=3d#0000ff><b><span lang=3den-us><font face=3d\"arial black\" size=3d6>the \n",
      "       figure would&nbsp;</font></span><font face=3d\"arial black\"><span \n",
      "       lang=3den-us><font size=3d6><i>amaze you! \n",
      "       </i></font></span></font></b></font></p>\n",
      "       <p class=3dmsotitle style=3d\"margin: 0px 0cm\" align=3dcenter>&nbsp;</p>\n",
      "       <p class=3dmsotitle style=3d\"margin: 0px 0cm\" align=3dcenter><font \n",
      "       face=3darial><strong><font size=3d6><span lang=3den-us><font \n",
      "       color=3d#ff0000>how</font> <font color=3d#0000ff>are you&nbsp;</font><font \n",
      "       color=3d#ff0000>losing</font> <font \n",
      "       color=3d#0000ff>them?</font></span></font><o:p></o:p></strong></font></p>\n",
      "       <p class=3dmsobodytext style=3d\"margin: 0px 0cm\" align=3dcenter><font \n",
      "       face=3d\"arial black\" size=3d6><font color=3d#ff0000><strong>they \n",
      "       </strong></font><font color=3d#ff0000><strong>cannot \n",
      "       find</strong></font><font color=3d#ff0000>&nbsp;<strong>your web \n",
      "       site!</strong></font></font></p>\n",
      "       <p class=3dmsonormal style=3d\"margin: 0px 0cm; text-align: center\" \n",
      "       align=3dcenter><span style=3d\"font-size: 24pt\"><font \n",
      "       face=3darial><o:p></o:p></font></span></p>\n",
      "       <p class=3dmsonormal style=3d\"margin: 0px 0cm; text-align: center\" \n",
      "       align=3dcenter><font face=3d\"arial black\" color=3d#111111 size=3d7>a simple \n",
      "       equation</font><o:p></o:p></p>\n",
      "       <p class=3dmsonormal style=3d\"margin: 0px 0cm; text-align: center\" \n",
      "       align=3dcenter><font face=3d\"arial black\" color=3d#111111 \n",
      "       size=3d5><strong>not&nbsp;being found</strong> <strong>=3d</strong> <em \n",
      "       style=3d\"font-style: normal\"><b>losing new customers!</b></em></font></p>\n",
      "       <p class=3dmsonormal style=3d\"margin: 0px 0cm; text-align: center\" \n",
      "       align=3dcenter>&nbsp;</p>\n",
      "       <p class=3dmsonormal style=3d\"margin: 0px 0cm; text-align: center\" \n",
      "       align=3dcenter><i><font color=3d#0000ff><font face=3d\"arial black\" \n",
      "       size=3d6>&nbsp;</font><strong><font face=3d\"arial black\" size=3d6>we can change \n",
      "       that!</font></strong></font></i></p>\n",
      "       <p class=3dmsonormal style=3d\"margin: 0px 0cm; text-align: center\" \n",
      "       align=3dcenter>&nbsp;</p>\n",
      "       <h2 style=3d\"margin: 0px 0cm\" align=3dcenter><img height=3d52 \n",
      "       src=3d\"http://www.worldwebconnect.com/images/worldwebconnect.gif\" width=3d425 \n",
      "       border=3d0></h2>\n",
      "       <h1 style=3d\"margin: 0px 0cm\" align=3dcenter><font face=3d\"arial black\" \n",
      "       color=3d#ff0000>for only <span lang=3den-us>$119.97</span> </font></h1>\n",
      "       <p class=3dmsonormal style=3d\"margin: 0px 0cm; text-align: center\" \n",
      "       align=3dcenter>&nbsp;</p>\n",
      "       <p class=3dmsonormal style=3d\"margin: 0px 0cm; text-align: center\" \n",
      "       align=3dcenter><font face=3darial color=3d#0000ff size=3d6>we will submit your \n",
      "       website to over 360 major search engines around the world </font></p>\n",
      "       <p class=3dmsonormal style=3d\"margin: 0px 0cm; text-align: center\" \n",
      "       align=3dcenter><font face=3darial color=3d#0000ff size=3d4><strong>(see full list \n",
      "       on our web site.)</strong> </font></p>\n",
      "       <p class=3dmsonormal style=3d\"margin: 0px 0cm; text-align: center\" \n",
      "       align=3dcenter>&nbsp;</p>\n",
      "       <p class=3dmsonormal style=3d\"margin: 0px 0cm; text-align: center\" \n",
      "       align=3dcenter><font face=3d\"arial black\" color=3d#ff0000 size=3d6><strong>but \n",
      "       more than that</strong> </font></p>\n",
      "       <p class=3dmsonormal style=3d\"margin: 0px 0cm; text-align: center\" \n",
      "       align=3dcenter><font face=3darial color=3d#0000ff size=3d6>we will research the \n",
      "       best and most effective meta tags and keywords to use </font></p>\n",
      "       <p class=3dmsonormal style=3d\"margin: 0px 0cm; text-align: center\" \n",
      "       align=3dcenter><font face=3darial color=3d#0000ff size=3d6>on your web site so \n",
      "       that you will rise in the search engine&nbsp;listings </font></p>\n",
      "       <p class=3dmsonormal style=3d\"margin: 0px 0cm; text-align: center\" \n",
      "       align=3dcenter><b><font face=3darial size=3d6><font color=3d#ff0000>so new \n",
      "       customers can </font></font><font size=3d6><i><font face=3d\"arial black\" \n",
      "       color=3d#ff0000>find you!</font></i></font></b></p>\n",
      "       <p class=3dmsonormal style=3d\"margin: 0px 0cm; text-align: center\" \n",
      "       align=3dcenter>&nbsp;</p>\n",
      "       <p class=3dmsonormal style=3d\"margin: 0px 0cm; text-align: center\" \n",
      "       align=3dcenter><font face=3d\"arial black\" color=3d#ff0000 \n",
      "       size=3d6><strong><em>don't lose any more customers!</em></strong></font></p>\n",
      "       <p class=3dmsonormal style=3d\"margin: 0px 0cm; text-align: center\" \n",
      "       align=3dcenter>&nbsp;</p>\n",
      "       <p class=3dmsonormal style=3d\"margin: 0px 0cm; text-align: center\" \n",
      "       align=3dcenter><img height=3d52 \n",
      "       src=3d\"http://www.worldwebconnect.com/images/worldwebconnect.gif\" width=3d425 \n",
      "       border=3d0></p>\n",
      "       <p class=3dmsonormal style=3d\"margin: 0px 0cm; text-align: center\" \n",
      "       align=3dcenter><b><em><span lang=3den-us><font face=3darial size=3d6>let \n",
      "       us</font></span></em></b><font face=3darial><em><b><font size=3d6> \n",
      "       </font></b><span style=3d\"font-size: 24pt\"><font \n",
      "       size=3d6><b>professionally</b> </font></span></em></font><font face=3darial \n",
      "       size=3d6><span style=3d\"font-style: italic\"><strong>manage the submission of \n",
      "       your web site </strong></span></font></p>\n",
      "       <p class=3dmsonormal style=3d\"margin: 0px 0cm; text-align: center\" \n",
      "       align=3dcenter><i><font face=3darial size=3d6><strong>and get \n",
      "       it&nbsp;</strong></font><font face=3darial><strong><span \n",
      "       style=3d\"font-size: 24pt\"><font color=3d#0000ff \n",
      "       size=3d6>found</font></span><font size=3d6> and<font color=3d#0000ff> \n",
      "       </font></font><span style=3d\"font-size: 24pt\"><font color=3d#0000ff \n",
      "       size=3d6>seen</font><font size=3d6> on the<font color=3d#0000ff> \n",
      "       </font></font></span></strong></font><font face=3darial \n",
      "       size=3d6><strong>worlds search engines!</strong></font></i></p>\n",
      "       <p class=3dmsonormal style=3d\"margin: 0px 0cm; text-align: center\" \n",
      "       align=3dcenter><span style=3d\"font-size: 24pt\"><font \n",
      "       face=3darial><o:p></o:p></font></span></p>\n",
      "       <p class=3dmsobodytext2 style=3d\"margin: 0px 0cm\" align=3dcenter><strong><font \n",
      "       face=3d\"arial black\" size=3d6>click on&nbsp;this link </p></font><font \n",
      "       face=3d\"arial black\" color=3d#ff0000 size=3d6>\n",
      "       <p class=3dmsonormal style=3d\"margin: 0px 0in; text-align: center\" \n",
      "       align=3dcenter></font><b><font face=3d\"arial black\" color=3d#ff0000 size=3d6><span \n",
      "       style=3d\"color: red\"><a href=3d\"http://www.worldwebconnect.com/\">click \n",
      "       here!</a></span></font><o:p></o:p></b></p><font face=3d\"arial black\" size=3d6>\n",
      "       <p class=3dmsobodytext2 style=3d\"margin: 0px 0cm\" align=3dcenter>to discover \n",
      "       the&nbsp;<font color=3d#ff0000><em>power</em></font> of </p></font><font \n",
      "       face=3darial size=3d4>\n",
      "       <p class=3dmsobodytext2 style=3d\"margin: 0px 0cm\" align=3dcenter><img height=3d52 \n",
      "       src=3d\"http://www.worldwebconnect.com/images/worldwebconnect.gif\" width=3d443 \n",
      "       border=3d0></p></font><font face=3darial size=3d5>\n",
      "       <p class=3dmsobodytext2 style=3d\"margin: 0px 0cm\" align=3dcenter><i><span \n",
      "       lang=3den-gb style=3d\"color: #ffcc00; font-family: arial\">&nbsp;=93connecting \n",
      "       your business to the world wide web=94</span></i></p></font><font face=3darial \n",
      "       size=3d4>\n",
      "       <p class=3dmsobodytext2 style=3d\"margin: 0px 0cm\" align=3dcenter>&nbsp;</p>\n",
      "       <p class=3dmsobodytext2 style=3d\"margin: 0px 0cm\" align=3dcenter>&nbsp;</p>\n",
      "       <p class=3dmsobodytext2 style=3d\"margin: 0px 0cm\" align=3dcenter><img height=3d32 \n",
      "       src=3d\"http://www.worldwebconnect.com/images/sslsecure.gif\" width=3d82 \n",
      "       border=3d0><img height=3d30 \n",
      "       src=3d\"http://www.worldwebconnect.com/images/visaetc.gif\" width=3d172 \n",
      "       border=3d0></p></font></strong></td>\n",
      "     <td width=3d\"9%\" height=3d258>\n",
      "       <p style=3d\"margin-top: 0px; margin-bottom: 0px\"><img height=3d419 \n",
      "       src=3d\"http://www.worldwebconnect.com/images/rockwell_left_search.gif\" \n",
      "       width=3d99 border=3d0></p>\n",
      "       <p style=3d\"margin-top: 0px; margin-bottom: 0px\"><img height=3d419 \n",
      "       src=3d\"http://www.worldwebconnect.com/images/rockwell_left_search.gif\" \n",
      "       width=3d99 border=3d0></p>\n",
      "       <p style=3d\"margin-top: 0px; margin-bottom: 0px\"><img height=3d419 \n",
      "       src=3d\"http://www.worldwebconnect.com/images/rockwell_left_search.gif\" \n",
      "       width=3d99 border=3d0></p>\n",
      "       <p style=3d\"margin-top: 0px; margin-bottom: 0px\">&nbsp;</p></td></tr>\n",
      "   <tr>\n",
      "     <td width=3d\"91%\" height=3d23>&nbsp;</td>\n",
      "     <td width=3d\"9%\" \n",
      " height=3d23>&nbsp;</td></tr></tbody></table></center></div>\n",
      " \n",
      " </body>\n",
      " \n",
      " </html>\n",
      " \n",
      " \n",
      " ------_nextpart_3402248108--\n",
      " \n",
      " \n",
      "\n",
      "\n",
      "--------------------------------------------------\n",
      "\n",
      "Email Index 114 (Spam):\n",
      "\n",
      " <html><head><title></title></head><body bgcolor=\"white\">\n",
      " <table width=550><tr><td><font size=4 face=\"verdana\" color=\"#333366\">\n",
      " \n",
      " have tax problems? do you owe the irs money? if your debt is\n",
      " $5,000 us or more, we can help! our licensed agents can help\n",
      " you with both past and present tax debt. we have direct contacts\n",
      " with the irs, so once your application is processed we can help\n",
      " you immediately without further delay.<br><br>\n",
      " \n",
      " also, as our client we can offer you other services and help with\n",
      " other problems. our nationally recognized tax attorneys,\n",
      " paralegals, legal assistants and licensed enrolled agents can\n",
      " help you with:<br><br>\n",
      " \n",
      " - tax preparation<br>\n",
      " - audits<br>\n",
      " - seizures<br>\n",
      " - bank levies<br>\n",
      " - asset protection<br>\n",
      " - audit reconsideration<br>\n",
      " - trust fund penalty defense<br>\n",
      " - penalty appeals<br>\n",
      " - penalty abatement<br>\n",
      " - wage garnishments<br>\n",
      " .. and more!<br><br>\n",
      " \n",
      " to receive free information on tax help, please fill out the\n",
      " form below and return it to us. there are no obligations, and\n",
      " supplied information is kept strictly confidential. please note\n",
      " that this offer only applies to us citizens. application\n",
      " processing may take up to 10 business days.<br><br>\n",
      " \n",
      " note: for debt size please also include any penalties or interest<br><br><br>\n",
      " \n",
      " \n",
      " <form name=\"pagerform\" action=\"http://wwp.icq.com/whitepages/page_me/1,,,00.html\" method=\"post\">\n",
      " <input type=\"hidden\" name=\"fromemail\" value=\"ir2@ir.com\">\n",
      " <input type=\"hidden\" name=\"from\" value=\"ir2@ir.com\">\n",
      " <input type=hidden name=\"recipient\" value=\"edie82422c@yahoo.co.uk\">\n",
      " \n",
      " <table cellspacing=2>\n",
      " <tr><td><font size=2 face=\"verdana\" color=\"#333366\"><b>full name</b></font> &nbsp;&nbsp;</td><td><input type=\"hidden\" name=\"body\" value=\"{{name}}\"><input type=\"text\" size=\"21\" name=\"body\" maxlength=\"30\"></td></tr>\n",
      " <tr><td><font size=2 face=\"verdana\" color=\"#333366\"><b>state</b></font> &nbsp;&nbsp;</td><td><input type=\"hidden\" name=\"body\" value=\"{{state}}\">\n",
      " <select name=\"body\">\n",
      " <option value=\"\"></option>\n",
      " <option value=\"al\"> alabama\n",
      " <option value=\"ak\"> alaska\n",
      " <option value=\"az\"> arizona\n",
      " <option value=\"ar\"> arkansas\n",
      " <option value=\"ca\"> california\n",
      " <option value=\"co\"> colorado\n",
      " <option value=\"ct\"> connecticut\n",
      " <option value=\"de\"> delaware\n",
      " <option value=\"dc\"> dist of columbia\n",
      " <option value=\"fl\"> florida\n",
      " <option value=\"ga\"> georgia\n",
      " <option value=\"hi\"> hawaii\n",
      " <option value=\"id\"> idaho\n",
      " <option value=\"il\"> illinois\n",
      " <option value=\"in\"> indiana\n",
      " <option value=\"ia\"> iowa\n",
      " <option value=\"ks\"> kansas\n",
      " <option value=\"ky\"> kentucky\n",
      " <option value=\"la\"> louisiana\n",
      " <option value=\"me\"> maine\n",
      " <option value=\"md\"> maryland\n",
      " <option value=\"ma\"> massachusetts\n",
      " <option value=\"mi\"> michigan\n",
      " <option value=\"mn\"> minnesota\n",
      " <option value=\"ms\"> mississippi\n",
      " <option value=\"mo\"> missouri\n",
      " <option value=\"mt\"> montana\n",
      " <option value=\"ne\"> nebraska\n",
      " <option value=\"nv\"> nevada\n",
      " <option value=\"nh\"> new hampshire\n",
      " <option value=\"nj\"> new jersey\n",
      " <option value=\"nm\"> new mexico\n",
      " <option value=\"ny\"> new york\n",
      " <option value=\"nc\"> north carolina\n",
      " <option value=\"nd\"> north dakota\n",
      " <option value=\"oh\"> ohio\n",
      " <option value=\"ok\"> oklahoma\n",
      " <option value=\"or\"> oregon\n",
      " <option value=\"pa\"> pennsylvania\n",
      " <option value=\"ri\"> rhode island\n",
      " <option value=\"sc\"> south carolina\n",
      " <option value=\"sd\"> south dakota\n",
      " <option value=\"tn\"> tennessee\n",
      " <option value=\"tx\"> texas\n",
      " <option value=\"ut\"> utah\n",
      " <option value=\"vt\"> vermont\n",
      " <option value=\"va\"> virginia\n",
      " <option value=\"wa\"> washington\n",
      " <option value=\"wv\"> west virginia\n",
      " <option value=\"wi\"> wisconsin\n",
      " <option value=\"wy\"> wyoming\n",
      " </select>\n",
      " </td></tr>\n",
      " \n",
      " <tr><td><font size=2 face=\"verdana\" color=\"#333366\"><b>phone number</b></font> &nbsp;&nbsp;</td><td><input type=\"hidden\" name=\"body\" value=\"{{phone}}\"><input type=\"text\" size=\"21\" name=\"body\" maxlength=\"20\"></td></tr>\n",
      " <tr><td><font size=2 face=\"verdana\" color=\"#333366\"><b>time to contact</b></font> &nbsp;&nbsp;</td><td><input type=\"hidden\" name=\"body\" value=\"{{besttime}}\"><input type=\"text\" size=\"21\" name=\"body\" maxlength=\"30\"></td></tr>\n",
      " <tr><td><font size=2 face=\"verdana\" color=\"#333366\"><b>tax debt size</b></font> &nbsp;&nbsp;</td><td><input type=\"hidden\" name=\"body\" value=\"{{debtsize}}\"><input type=\"text\" size=\"21\" name=\"body\" maxlength=\"20\"><input type=\"hidden\" name=\"to\" value=\"60299005984\"></td></tr>\n",
      " <tr><td><font size=2 face=\"verdana\" color=\"#333366\"><b>e-mail</b></font> &nbsp;&nbsp;</td><td><input type=\"hidden\" name=\"body\" value=\"{{email}}\"><input type=\"text\" size=\"21\" name=\"body\" maxlength=\"30\"></td></tr>\n",
      " <tr><td>&nbsp;</td><td><input type=\"submit\" value=\"submit\"></td></tr>\n",
      " </table><br><br>\n",
      " \n",
      " </form>\n",
      " \n",
      " thank you for your time!<br><br><br><br>\n",
      " \n",
      " \n",
      " <font size=2><b>\n",
      " note: if you wish to receive no further advertisements regarding\n",
      " this matter or any other, please reply to this e-mail with the\n",
      " word remove in the subject.\n",
      " </b></font><br><br>\n",
      " \n",
      " </font></td></tr></table>\n",
      " </body></html>\n",
      " \n",
      " q10bvq9lvq1\n",
      " \n",
      " \n",
      "\n",
      "\n",
      "--------------------------------------------------\n",
      "\n",
      "Email Index 5026 (Spam):\n",
      "<html>\n",
      " <head>\n",
      "    <meta http-equiv=\"content-type\" content=\"text/html; charset=iso-8859-1\">\n",
      "    <title>lowest viagra prices online!</title>\n",
      " </head>\n",
      " <body>\n",
      " <table cols=1 width=\"538\" >\n",
      " <tr>\n",
      " <td><font face=\"arial,helvetica\">we are the largest u.s. company specializing\n",
      " in prescriptions for <b><font color=\"#3333ff\"><a href=\"http://www.1-stopshop.net\">viagra</a></font></b>,\n",
      " weight loss management and other fda approved medications.&nbsp;</font>\n",
      " <p><font face=\"arial,helvetica\">it has never been easier to get <b><font color=\"#3366ff\"><a href=\"http://www.1-stopshop.net\">viagra</a></font></b>.&nbsp;</font>\n",
      " <p><b><font face=\"arial,helvetica\">no physical exam necessary!</font></b>\n",
      " <ul>\n",
      " <li>\n",
      " <font face=\"arial,helvetica\">free online consultation</font></li>\n",
      " \n",
      " <li>\n",
      " <font face=\"arial,helvetica\">fully confidential</font></li>\n",
      " \n",
      " <li>\n",
      " <font face=\"arial,helvetica\">no embarassment&nbsp;</font></li>\n",
      " \n",
      " <li>\n",
      " <font face=\"arial,helvetica\">no appointments</font></li>\n",
      " \n",
      " <li>\n",
      " <font face=\"arial,helvetica\">secure ordering&nbsp;</font></li>\n",
      " \n",
      " <li>\n",
      " <font face=\"arial,helvetica\">discreet and overnight shipping&nbsp;</font></li>\n",
      " </ul>\n",
      " \n",
      " <p><br><b><font face=\"arial,helvetica\"><font color=\"#cc0000\"><a href=\"http://www.1-stopshop.net\">guaranteed\n",
      " lowest prices.</a></font></font></b>\n",
      " <p><b><font face=\"arial,helvetica\">burn fat and lose weight fast with\n",
      " <a href=\"http://www.1-stopshop.net\">phentermine!</a></font></b>\n",
      " <p><font face=\"arial,helvetica\"><b><a href=\"http://www.1-stopshop.net\">click\n",
      " here</a></b> to visit our online pharmacy.</font>\n",
      " <br>&nbsp;\n",
      " <p><font face=\"arial,helvetica\">to be excluded from our mailing list, <b><a href=\"mailto:removeme99@btamail.net.cn?subject=remove from viagra\">click\n",
      " here</a></b>.&nbsp; you will then be automatically deleted from future\n",
      " mailings.&nbsp;</font></td>\n",
      " </tr>\n",
      " </table>\n",
      " \n",
      " </body>\n",
      " </html>\n",
      " \n",
      " \n",
      " 7984gxic3-748urby5l17\n",
      "\n",
      "\n",
      "--------------------------------------------------\n",
      "\n",
      "Email Index 1803 (Spam):\n",
      "unbelievable prices on cell phones and accessories:\n",
      " \n",
      " http://65.218.171.48\n",
      " \n",
      " hands free ear buds 1.99! \n",
      " phone holsters 1.98! \n",
      " phone cases 1.98! \n",
      " car chargers 1.98! \n",
      " face plates as low as 2.98! \n",
      " lithium ion batteries as low as 6.94! \n",
      " \n",
      " http://65.218.171.48\n",
      " \n",
      " click below for accessories on all nokia, motorola lg, nextel, \n",
      " samsung, qualcomm, ericsson, audiovox phones at below \n",
      " wholesale prices!\n",
      "  \n",
      " http://65.218.171.48\n",
      " \n",
      " ***new*** now also: accessories for palm iii, palm vii, \n",
      " palm iiic, palm v, palm m100 & m105, handspring visor, compaq ipaq*** \n",
      " \n",
      " car chargers 6.95! \n",
      " leather cases 13.98! \n",
      " usb chargers 11.98! \n",
      " hot sync cables11.98! \n",
      " \n",
      " http://65.218.171.48\n",
      " \n",
      " ***if you need assistance please call us  (732) 751-1457***\n",
      " \n",
      " ~~~~~~~~~~~~~~~~~~~~~~~~~~~~~~~~\n",
      " to be removed from future mailings please send your remove \n",
      " request to: 3425342r@eudoramail.com\n",
      " \n",
      " \n",
      " \n",
      " \n",
      "\n",
      "\n",
      "--------------------------------------------------\n",
      "\n"
     ]
    }
   ],
   "source": [
    "def explore_emails(data, category='ham', num_emails=5, indices=None):\n",
    "    \"\"\"\n",
    "    Explore emails from the dataset by category.\n",
    "\n",
    "    Parameters:\n",
    "        data (DataFrame): The dataset containing the email data.\n",
    "        category (str): The email category to explore ('ham' or 'spam').\n",
    "        num_emails (int): Number of emails to display if indices are not provided.\n",
    "        indices (list): Specific indices of emails to view. Overrides num_emails if provided.\n",
    "    \"\"\"\n",
    "    # Determine category filter\n",
    "    if category.lower() == 'ham':\n",
    "        filtered_data = data[data['spam'] == 0]\n",
    "    elif category.lower() == 'spam':\n",
    "        filtered_data = data[data['spam'] == 1]\n",
    "    else:\n",
    "        raise ValueError(\"Category must be 'ham' or 'spam'\")\n",
    "    \n",
    "    # Select emails by indices or random sampling\n",
    "    if indices:\n",
    "        emails_to_display = filtered_data.iloc[indices]\n",
    "    else:\n",
    "        emails_to_display = filtered_data.head(num_emails)\n",
    "    \n",
    "    # Display emails\n",
    "    for idx, row in emails_to_display.iterrows():\n",
    "        print(f\"Email Index {idx} ({category.title()}):\")\n",
    "        print(row['email'])\n",
    "        print(\"\\n\" + \"-\" * 50 + \"\\n\")\n",
    "\n",
    "# Example Usage:\n",
    "# View the first 5 ham emails\n",
    "explore_emails(original_training_data, category='ham', num_emails=5)\n",
    "\n",
    "# View 3 spam emails at specific indices\n",
    "explore_emails(original_training_data, category='spam', indices=[10, 20, 30])\n",
    "\n",
    "# View 2 random spam emails\n",
    "explore_emails(original_training_data.sample(frac=1, random_state=42), category='spam', num_emails=2)\n"
   ]
  },
  {
   "cell_type": "markdown",
   "metadata": {
    "deletable": false,
    "editable": false
   },
   "source": [
    "<!-- END QUESTION -->\n",
    "\n",
    "<!-- BEGIN QUESTION -->\n",
    "\n",
    "<br>\n",
    "\n",
    "---\n",
    "\n",
    "## Question 1b\n",
    "\n",
    "In two to three sentences, describe what you plotted and its implications with respect to your features."
   ]
  },
  {
   "cell_type": "markdown",
   "metadata": {},
   "source": [
    "My EDA focuses on sampling emails from both ham and spam categories rather than relying on visual plots. By examining these samples, I identified key structural differences between the two types of emails. Notable patterns included the presence of HTML tags and the number of hyperlinks, which are more prevalent in spam emails. These observations informed the selection of features for my model, such as detecting HTML content and counting links, which are visible in the sampled data."
   ]
  },
  {
   "cell_type": "markdown",
   "metadata": {
    "deletable": false,
    "editable": false
   },
   "source": [
    "<!-- END QUESTION -->\n",
    "\n",
    "<br/>\n",
    "<hr style=\"border: 1px solid #fdb515;\" />\n",
    "\n",
    "# Question 2: Building Your Own Model\n",
    "\n",
    "Now that you've explored the data and relevant features through EDA, it's time to build your model! As mentioned earlier, you may use whatever method you prefer to create features, but **you may only use the packages we've imported for you in the cell below or earlier in this notebook**. In addition, **you are only allowed to train logistic regression models**. No decision trees, random forests, k-nearest-neighbors, neural nets, etc. \n",
    "\n",
    "Please consider the ideas mentioned above when choosing features. We have not provided any code to do this, so feel free to create as many cells as you need to tackle this task. "
   ]
  },
  {
   "cell_type": "code",
   "execution_count": 135,
   "metadata": {
    "deletable": false,
    "editable": false
   },
   "outputs": [],
   "source": [
    "# import libraries\n",
    "# You may use any of these to create your features.\n",
    "from sklearn.preprocessing import OneHotEncoder\n",
    "from sklearn.linear_model import LogisticRegression\n",
    "from sklearn.metrics import accuracy_score, roc_curve, confusion_matrix\n",
    "from sklearn.model_selection import GridSearchCV\n",
    "from sklearn.decomposition import PCA\n",
    "import re\n",
    "from collections import Counter"
   ]
  },
  {
   "cell_type": "code",
   "execution_count": 136,
   "metadata": {
    "tags": []
   },
   "outputs": [],
   "source": [
    "# Define your processing function, processed data, and model here. \n",
    "# You may find it helpful to look through the rest of the questions first!\n",
    "\n",
    "import re\n",
    "\n",
    "def count_links(email):\n",
    "    \"\"\"Count the number of hyperlinks in the email.\"\"\"\n",
    "    link_pattern = r\"http[s]?://(?:[a-zA-Z]|[0-9]|[$-_@.&+]|[!*\\\\(\\\\),]|(?:%[0-9a-fA-F][0-9a-fA-F]))+\"\n",
    "    links = re.findall(link_pattern, email)\n",
    "    return len(links)\n",
    "\n",
    "\n",
    "def add_chosen_word_features(df, chosen_words):\n",
    "    from projB2_utils import words_in_texts  # Assuming you have this utility\n",
    "    # Create binary indicators for each chosen word\n",
    "    word_indicators = words_in_texts(chosen_words, df['email'])\n",
    "    \n",
    "    # Add each word indicator as a new feature to the dataframe\n",
    "    for i, word in enumerate(chosen_words):\n",
    "        df[word] = word_indicators[:, i]\n",
    "    return df\n",
    "\n",
    "chosen_words = ['click', 'please', 'pay', 'size', 'href']\n",
    "\n",
    "def contains_html(email):\n",
    "    \"\"\"Check if an email contains any HTML tags.\"\"\"\n",
    "    html_tags = [\"<html>\", \"<body>\", \"<a>\", \"<b>\", \"<font>\", \"<div>\", \"<table>\", \"<head>\"]\n",
    "    return any(tag in email.lower() for tag in html_tags)\n",
    "\n",
    "def add_features(df, chosen_words):\n",
    "    #Adds selected features to the DataFrame.\n",
    "    df['contains_html'] = df['email'].apply(contains_html).astype(int)\n",
    "    df['link_count'] = df['email'].apply(count_links)\n",
    "    df = add_chosen_word_features(df, chosen_words)\n",
    "\n",
    "    return df\n",
    "\n",
    "train = add_features(train, chosen_words)\n",
    "\n",
    "base_features = ['contains_html', 'link_count'] + chosen_words\n",
    "X_train = train[base_features].values\n",
    "Y_train = train['spam'].values"
   ]
  },
  {
   "cell_type": "markdown",
   "metadata": {
    "deletable": false,
    "editable": false
   },
   "source": [
    "<br>\n",
    "\n",
    "---\n",
    "\n",
    "# Question 3\n",
    "\n",
    "### Grading Scheme\n",
    "\n",
    "Your grade for this question will be based on your model’s accuracy when making predictions on the training set and your model’s accuracy when making predictions on the test set. The tables below provide scoring guidelines. If your accuracy lies in a particular range, you will receive the number of points associated with that range.\n",
    "\n",
    "**Important**: While your training accuracy can be checked at any time in this notebook, your test accuracy can only be checked by submitting your model’s predictions to Gradescope. **You will only be able to submit your test set predictions to Gradescope up to 4 times per day**. In the case that you are approved for an extension, you are granted 4 more submissions for each day the deadline has been extended. Plan ahead to make sure you have enough time to fine-tune your model! The thresholds are as follows:\n",
    "\n",
    "Points | 5 | 3 | 1.5 | 0\n",
    "--- | --- | --- | --- | ---\n",
    "**Training** Accuracy | 85% and Above | \\[80, 85) | \\[70, 80) | Below 70%\n",
    "\n",
    "Points | 10 | 6 | 3 | 0\n",
    "--- | --- | --- | --- | ---\n",
    "**Testing** Accuracy | 85% and Above | \\[80, 85) | \\[70, 80) | Below 70%\n",
    "\n",
    "\n",
    "<br><br>\n",
    "\n",
    "---\n",
    "\n",
    "## Question 3a: Train Predictions\n",
    "Assign your predictions for the class of each data point in the training set `train` to `train_predictions`."
   ]
  },
  {
   "cell_type": "code",
   "execution_count": 137,
   "metadata": {
    "tags": []
   },
   "outputs": [
    {
     "name": "stdout",
     "output_type": "stream",
     "text": [
      "contains_html: 2.440233682066806\n",
      "link_count: -0.08669030968705486\n",
      "click: 1.1755612817084855\n",
      "please: 2.2444800903015723\n",
      "pay: 1.4833232297303958\n",
      "size: 0.1706958046665689\n",
      "href: 2.1956229260227986\n",
      "Best Parameters: {'C': 1}\n"
     ]
    },
    {
     "data": {
      "text/plain": [
       "0.8992413150539066"
      ]
     },
     "execution_count": 137,
     "metadata": {},
     "output_type": "execute_result"
    }
   ],
   "source": [
    "model = LogisticRegression()\n",
    "model.fit(X_train, Y_train)\n",
    "train_predictions = model.predict(X_train)\n",
    "\n",
    "feature_importance = model.coef_[0]\n",
    "for feature, importance in zip(base_features, feature_importance):\n",
    "    print(f\"{feature}: {importance}\")\n",
    "\n",
    "param_grid = {'C': [0.01, 0.1, 1, 10, 100]}\n",
    "grid = GridSearchCV(LogisticRegression(), param_grid, cv=5)\n",
    "grid.fit(X_train, Y_train)\n",
    "print(f\"Best Parameters: {grid.best_params_}\")\n",
    "\n",
    "# Print your training accuracy. \n",
    "training_accuracy = np.mean(train_predictions == train[\"spam\"])\n",
    "training_accuracy"
   ]
  },
  {
   "cell_type": "code",
   "execution_count": 138,
   "metadata": {
    "deletable": false,
    "editable": false
   },
   "outputs": [
    {
     "data": {
      "text/html": [
       "<p><strong><pre style='display: inline;'>q3a</pre></strong> passed! 🍀</p>"
      ],
      "text/plain": [
       "q3a results: All test cases passed!"
      ]
     },
     "execution_count": 138,
     "metadata": {},
     "output_type": "execute_result"
    }
   ],
   "source": [
    "grader.check(\"q3a\")"
   ]
  },
  {
   "cell_type": "markdown",
   "metadata": {
    "deletable": false,
    "editable": false
   },
   "source": [
    "<br>\n",
    "\n",
    "---\n",
    "\n",
    "## Question 3b: Test Predictions\n",
    "\n",
    "The following code will write your predictions on the test dataset to a CSV file. **You will need to submit this file to the \"Project B2 Test Set Predictions\" assignment on Gradescope to get credit for this question.**\n",
    "\n",
    "Assign your predictions for the class of each datapoint in the test set `test` to a 1-dimensional array called `test_predictions`. **Please make sure you save your predictions to `test_predictions`, as this is how part of your score for this question will be determined.**\n",
    "\n",
    "**Remember that if you've performed transformations or featurization on the training data, you must also perform the same transformations on the test data in order to make predictions.** For example, if you've created features for the words \"drug\" and \"money\" on the training data, you must also extract the same features in order to use `scikit-learn`'s `.predict` method.\n",
    "\n",
    "**Gradescope limits you to 4 submissions per day to meet the threshold.** If you are approved for an extension, you are granted 4 more submissions for each day the deadline has been extended.\n",
    "\n",
    "The provided tests check that your predictions are in the correct format but are worth 0 points in the *Project B2 Coding assignment*. To evaluate your classifier accuracy, you must submit the CSV file to the *Project B2 Test Set Predictions* assignment."
   ]
  },
  {
   "cell_type": "code",
   "execution_count": 139,
   "metadata": {
    "tags": []
   },
   "outputs": [],
   "source": [
    "test = add_features(test, chosen_words)\n",
    "X_test = test[base_features].values\n",
    "\n",
    "test_predictions = model.predict(X_test)"
   ]
  },
  {
   "cell_type": "code",
   "execution_count": 140,
   "metadata": {
    "deletable": false,
    "editable": false
   },
   "outputs": [
    {
     "data": {
      "text/html": [
       "<p><strong><pre style='display: inline;'>q3b</pre></strong> passed! ✨</p>"
      ],
      "text/plain": [
       "q3b results: All test cases passed!"
      ]
     },
     "execution_count": 140,
     "metadata": {},
     "output_type": "execute_result"
    }
   ],
   "source": [
    "grader.check(\"q3b\")"
   ]
  },
  {
   "cell_type": "markdown",
   "metadata": {},
   "source": [
    "The following cell generates a CSV file with your predictions. **You must submit this CSV file to the \"Project B2 Test Set Predictions\" assignment on Gradescope to get credit for this question.** You can only submit to Gradescope a maximum of 4 times per day, so please use your submissions wisely!"
   ]
  },
  {
   "cell_type": "code",
   "execution_count": 141,
   "metadata": {},
   "outputs": [
    {
     "name": "stdout",
     "output_type": "stream",
     "text": [
      "Created a CSV file: submission_20241206_054553.csv.\n"
     ]
    },
    {
     "data": {
      "text/html": [
       "Download your test prediction <a href='submission_20241206_054553.csv' download>here</a>."
      ],
      "text/plain": [
       "<IPython.core.display.HTML object>"
      ]
     },
     "metadata": {},
     "output_type": "display_data"
    },
    {
     "name": "stdout",
     "output_type": "stream",
     "text": [
      "You may now upload this CSV file to Gradescope for scoring.\n"
     ]
    }
   ],
   "source": [
    "# Assuming that your predictions on the test set are stored in a 1-dimensional array called\n",
    "# test_predictions. Feel free to modify this cell as long you create a CSV in the right format.\n",
    "\n",
    "# Construct and save the submission:\n",
    "submission_df = pd.DataFrame({\n",
    "    \"Id\": test['id'], \n",
    "    \"Class\": test_predictions,\n",
    "}, columns=['Id', 'Class'])\n",
    "timestamp = datetime.now().strftime(\"%Y%m%d_%H%M%S\")\n",
    "filename = \"submission_{}.csv\".format(timestamp)\n",
    "submission_df.to_csv(filename, index=False)\n",
    "\n",
    "print('Created a CSV file: {}.'.format(\"submission_{}.csv\".format(timestamp)))\n",
    "display(HTML(\"Download your test prediction <a href='\" + filename + \"' download>here</a>.\"))\n",
    "print('You may now upload this CSV file to Gradescope for scoring.')#"
   ]
  },
  {
   "cell_type": "markdown",
   "metadata": {},
   "source": [
    "<br/>\n",
    "<hr style=\"border: 1px solid #fdb515;\" />\n",
    "\n",
    "# Analyzing Your Model\n",
    "\n",
    "Congratulations on completing your model! In the next few questions, we'll ask you to comment on your process for building a successful model and better understand the amount of misclassifications your model makes. "
   ]
  },
  {
   "cell_type": "markdown",
   "metadata": {
    "deletable": false,
    "editable": false
   },
   "source": [
    "<!-- BEGIN QUESTION -->\n",
    "\n",
    "<br>\n",
    "\n",
    "---\n",
    "\n",
    "# Question 4\n",
    "\n",
    "Describe the process of improving your model. You should use at least 2-3 sentences each to address the following questions:\n",
    "\n",
    "1. How did you find better features for your model?\n",
    "2. What did you try that worked or didn't work?\n",
    "3. What was surprising in your search for good features?"
   ]
  },
  {
   "cell_type": "markdown",
   "metadata": {},
   "source": [
    "**1.** Finding better features was a combination of trial and error, exploratory data analysis, and leveraging insights from the dataset. I started by analyzing the structure of both spam and ham emails using samples to identify distinguishable patterns, such as the presence of HTML tags, the number of links, and specific words commonly found in spam emails. I also tested features iteratively, like binary indicators for certain keywords, and used feature importance metrics to assess their impact on the model’s accuracy.\n",
    "    \n",
    "**2.** I tested many ideas, some of which had potential but ultimately failed to improve the model. For example, I tried implementing a feature to detect whether an email was a reply or forward based on keywords like \"Re:\" and \"Fwd:\" in the subject line. However, this approach caused errors due to inconsistencies in how subject lines were formatted and didn’t contribute significantly to accuracy. Another idea was counting the number of capital letters, which I expected to signal spam, but it didn’t have a measurable impact. On the other hand, features like detecting HTML tags, counting links, and using specific words as binary indicators proved highly effective.\n",
    "\n",
    "**3.** I was surprised by how many seemingly promising ideas didn’t work, especially those I thought would directly distinguish between spam and ham emails. For instance, detecting replies and forwards seemed intuitive but was difficult to implement effectively. I was also surprised by how simple and interpretable features, such as the number of links or the presence of HTML tags, significantly improved the model’s accuracy. Ultimately, the best-performing features emerged from careful observation of the dataset and testing small, focused ideas rather than relying on complex or quantitative methods."
   ]
  },
  {
   "cell_type": "markdown",
   "metadata": {
    "deletable": false,
    "editable": false
   },
   "source": [
    "<!-- END QUESTION -->\n",
    "\n",
    "<!-- BEGIN QUESTION -->\n",
    "\n",
    "<br>\n",
    "\n",
    "---\n",
    "\n",
    "# Question 5: ROC Curve\n",
    "\n",
    "In most cases, we won't be able to get 0 false positives and 0 false negatives, so we have to compromise. For example, in the case of cancer screenings, false negatives are comparatively worse than false positives — a false negative means that a patient might not discover that they have cancer until it's too late. In contrast, a patient can receive another screening for a false positive.\n",
    "\n",
    "Recall that logistic regression calculates the probability that an example belongs to a particular class. To classify an example, we say that an email is spam if our classifier gives it $\\ge 0.5$ probability of being spam. However, **we can adjust that cutoff threshold**. We can say that an email is spam only if our classifier gives it $\\ge 0.7$ probability of being spam, for example. This is how we can trade off false positives and false negatives.\n",
    "\n",
    "The Receiver Operating Characteristic (ROC) curve shows this trade-off for each possible cutoff probability. In the cell below, plot an ROC curve for your final classifier (the one you use to make predictions for Gradescope) on the training data. [Lecture 23](https://ds100.org/fa24/lecture/lec23/) may be helpful.\n",
    "\n",
    "**Hint**: You'll want to use the `.predict_proba` method [(documentation)](https://scikit-learn.org/stable/modules/generated/sklearn.linear_model.LogisticRegression.html#sklearn.linear_model.LogisticRegression.predict_proba) for your classifier instead of `.predict` to get probabilities instead of binary predictions."
   ]
  },
  {
   "cell_type": "code",
   "execution_count": 142,
   "metadata": {
    "tags": []
   },
   "outputs": [
    {
     "data": {
      "image/png": "[encoded data removed]",
      "text/plain": [
       "<Figure size 800x600 with 1 Axes>"
      ]
     },
     "metadata": {},
     "output_type": "display_data"
    }
   ],
   "source": [
    "y_proba = model.predict_proba(X_train)[:, 1]\n",
    "fpr, tpr, thresholds = roc_curve(Y_train, y_proba)\n",
    "roc_auc = auc(fpr, tpr)\n",
    "\n",
    "plt.figure(figsize=(8, 6))\n",
    "plt.plot(fpr, tpr, color='blue', label=f'ROC Curve (AUC = {roc_auc:.2f})')\n",
    "plt.plot([0, 1], [0, 1], color='red', linestyle='--', label='Random Classifier')  # Diagonal line\n",
    "plt.title('Receiver Operating Characteristic (ROC) Curve')\n",
    "plt.xlabel('False Positive Rate')\n",
    "plt.ylabel('True Positive Rate')\n",
    "plt.legend(loc='lower right')\n",
    "plt.grid()\n",
    "plt.show()"
   ]
  },
  {
   "cell_type": "markdown",
   "metadata": {
    "deletable": false,
    "editable": false
   },
   "source": [
    "<!-- END QUESTION -->\n",
    "\n",
    "<br/>\n",
    "<hr style=\"border: 1px solid #fdb515;\" />\n",
    "\n",
    "# Diving Deeper\n",
    "\n",
    "So far, we’ve been looking at our model through the lens of accuracy. In the next two questions, we'll dive deeper into the complexities of analyzing our model's performance. In particular, we'll ask you to explore some ambiguous cases that can arise, even within the training data itself, and the consequences of misclassification. You may have already come across some of these cases unknowingly when building your model!"
   ]
  },
  {
   "cell_type": "markdown",
   "metadata": {},
   "source": [
    "<br><br>\n",
    "\n",
    "---\n",
    "\n",
    "## Question 6\n",
    "\n",
    "To help you better understand some of the challenges that arise with classification, we've selected three emails from the `train` `DataFrame` and provided them below. Each email highlights a different issue that could arise. Skim through each of the emails below before answering part a)."
   ]
  },
  {
   "cell_type": "markdown",
   "metadata": {},
   "source": [
    "### Example 1"
   ]
  },
  {
   "cell_type": "code",
   "execution_count": 143,
   "metadata": {},
   "outputs": [
    {
     "name": "stdout",
     "output_type": "stream",
     "text": [
      "spam: 1\n",
      "\n",
      "email:\n",
      "hello you two,\n",
      " \n",
      " i am so sorry catherine for not writing recently. i have just been vv busybeing a working mother and sometimes it all gets too much you know!! i cannot wait to see you both although we may meet at the airport on the 16/6 as that's the day we're going to france but i will see you both at bronagh's house for her 30th which we're going to on the way back from the airport. i am so excited about seeing you!!! liitle eva ( aine) was born on tuesday\n",
      "  she is absolutely incredible. poor bronagh is 11 dsays over!!\n",
      " sounds like you've been having an amazing time. hope you won't be too depressed to be back!!\n",
      " \n",
      " lots of love\n",
      " \n",
      " deirdre\n",
      " \"justin mason\" <jm@jmason.org> wrote:\n",
      " \n",
      " <  \n",
      " <  just a quick note -\n",
      " <  \n",
      " <  we've decided to go up to annapurna base camp instead of\n",
      " <  the jomsom trek - it's a bit more impressive visually\n",
      " <  (if a little soggier).   so as of tomorrow morning, ourselves\n",
      " <  and our guide bhadra will be leaping like gazelles up 4000-odd\n",
      " <  metres into the himalayas... we'll be sure to take a few\n",
      " <  pics on the way.  sorry for the bonus mail, but we have to tell\n",
      " <  someone because we forgot to tell the irish embassy ;)\n",
      " <  \n",
      " <  next update in 10-14 days, ish,\n",
      " <  \n",
      " <  --j.\n",
      " <  \n",
      " <  \n",
      " <  \n",
      " <  _______________________________________________\n",
      " <  travelogue mailing list\n",
      " <  travelogue@jmason.org\n",
      " <  http://jmason.org/mailman/listinfo/travelogue\n",
      " <  \n",
      " \n",
      " \n",
      "\n"
     ]
    }
   ],
   "source": [
    "# Just run this cell, don't modify it.\n",
    "\n",
    "print(\"spam: \" + str(train.loc[5216][\"spam\"]))\n",
    "print(\"\\nemail:\\n\" + train.loc[5216][\"email\"])"
   ]
  },
  {
   "cell_type": "markdown",
   "metadata": {},
   "source": [
    "### Example 2"
   ]
  },
  {
   "cell_type": "code",
   "execution_count": 144,
   "metadata": {},
   "outputs": [
    {
     "name": "stdout",
     "output_type": "stream",
     "text": [
      "spam: 0\n",
      "\n",
      "email:\n",
      "lifetime movie newsletter\n",
      " \n",
      " this week's movies to watch on lifetime\n",
      " \n",
      " [ http://www.lifetimetv.com/movies/index.html ]\n",
      " \n",
      " august 19, 2002\n",
      " \n",
      " *************************************************************************\n",
      " \n",
      " coming at you this week...\n",
      " \n",
      " 1) \"the secret life of zoey\" premiere!\n",
      " 2) the buzz about the upcoming movie\n",
      " 3) movies airing this week\n",
      " 4) big event: a martinez sunday\n",
      " 5) fun and games\n",
      " \n",
      " *************************************************************************\n",
      " \n",
      " \"the secret life of zoey\" premiere!\n",
      " \n",
      " take a sneak peek at lifetimes next exciting original movie, \"the secret life of zoey\" [ http://www.lifetimetv.com/movies/info/move3195.html ], airing on monday, august 19 at 9 pm et/pt. zoey's mom thought she knew everything about her perfect teenage daughter. but when she realizes that her child is addicted to drugs, both of their worlds spin out of control. this dramatic film delves into the topic of teenage drug addiction and features stellar performers mia farrow, andrew mccarthy and julia whelan, from tv's \"once and again.\" go behind the scenes with the cast [ http://www.lifetimetv.com/movies/originals/bio1.html ],\n",
      " read real-life recovery stories of teen drug addicts [ http://www.lifetimetv.com/reallife/health/features/teen_addiction.html ], and learn how to keep your kids drug-free with 10 expert tips [ http://www.lifetimetv.com/reallife/health/features/drug_free.html ].\n",
      " \n",
      " *************************************************************************\n",
      " \n",
      " the buzz about the upcoming movie\n",
      " \n",
      " people are already talking about the sensitive subject of kids and drug addiction featured in \"the secret life of zoey.\"\n",
      " lifetimetv.com community member belfast belle writes:\n",
      " \"my belief is that i started using drugs to fit in and to cope with things that happened to me. my mom died when i was 10. i had to live away from my dad and brothers. where i grew up i was sexually abused for years, but i didn't dare tell anyone. when i finally went to live with my dad and brothers, i had no self-esteem left. i experienced so much shame, and in my mind it seemed as if everyone knew what happened. drugs helped me to feel ok and like i was a part of something. when my dad died, i was devastated. it threw me into a full-blown addiction. my drug use landed me in rehab, in debt and in strained relationships with my brothers. thanks to the help of narcotics anonymous, i have been clean since december 28, 1991. i now have great relationships with my siblings. i love them more than they will ever know. i also have a beautiful seven-year-old daughter who has never seen her mother touch drugs. i don't have any desire to use, either -- just the desire to be the best pe\n",
      "  rson i can be.\"\n",
      " \n",
      " express yourself! tell us your thoughts on \"the secret life of zoey\" and let us know if addiction has affected your life. go to our message boards at http://boards.lifetimetv.com/webx?14@@.ee91dd6.\n",
      " \n",
      " *************************************************************************\n",
      " \n",
      " movies airing this week\n",
      " \n",
      " \"the wrong woman,\" premiering august 20 at 9 pm et/pt\n",
      " melanie is flirting with a married man -- her boss. when he turns up dead, she is framed for his murder! will the victim's wife help save melanie from jail? starring \"the division\" star nancy mckeon [ http://www.lifetimetv.com/shows/ip/portraits/0023/0023_index.html ].\n",
      " [ http://www.lifetimetv.com/movies/info/move2355.html ]\n",
      " \n",
      " \"hit and run,\" airing august 21 at 9 pm et/pt\n",
      " joanna is the ideal mother, wife and friend. but her \"perfect\" life is altered forever when she accidentally hits a young girl with her car and leaves the scene. what catches up with her first -- her conscience or the police? starring \"the division\" star lisa vidal\n",
      " [ http://www.lifetimetv.com/shows/division/bios/cast_lisa.html ].\n",
      " [ http://www.lifetimetv.com/movies/info/move2518.html ]\n",
      " \n",
      " \"get to the heart: the barbara mandrell story,\" premiering august 22 at 9 pm et/pt\n",
      " barbara mandrell plays herself in this inspiring autobiographical movie about the country-western singer's rise to fame and the car crash that nearly killed her. also starring dolly parton and kenny rogers. find out more about this grammy-winning crooner [ http://www.lifetimetv.com/shows/ip/portraits/9837/9837_index.html ].\n",
      " [ http://www.lifetimetv.com/movies/info/move3180.html ]\n",
      " \n",
      " \"road rage,\" airing august 23 at 9 pm et/pt\n",
      " it's just another day on the freeway for ellen carson, until she innocently cuts off eddie, a short-tempered delivery driver who is upset over recent deaths in his family. then ellen and her loved ones become the stalking targets of eddie's violent wrath. starring yasmine bleeth.\n",
      " [ http://www.lifetimetv.com/movies/info/move3002.html ]\n",
      " \n",
      " *************************************************************************\n",
      " \n",
      " big event: a martinez sunday\n",
      " tune in on sunday, august 25, for a day filled with movies showcasing heartthrob a martinez, who stars in lifetime's exciting new legal series, \"for the people\" [ http://www.lifetimetv.com/shows/ftpeople/index.html ].\n",
      " \n",
      " \"she-devil,\" airing august 25 at 12 pm et/pt\n",
      " when ruth's husband, bob, leaves her for another woman, ruth devises a devious plot to ruin both their lives piece by piece. it's a face-off between roseanne barr and meryl streep!\n",
      " [ http://www.lifetimetv.com/movies/info/move1455.html ]\n",
      " \n",
      " \"manhunt: search for the night stalker,\" airing august 25 at 2 pm et/pt\n",
      " this true story recalls how famed serial killer richard ramirez terrorized los angeles for six months by murdering people in their own homes. see how the cops finally caught this vicious criminal.\n",
      " [ http://www.lifetimetv.com/movies/info/move1881.html ]\n",
      " \n",
      " \"sweet dreams,\" airing august 25 at 4 pm et/pt\n",
      " she wakes up from a coma and nothing is as it seems. will she regain her memory and realize that her husband and his mistress are out to get her? starring tiffani-amber thiessen.\n",
      " [ http://www.lifetimetv.com/movies/info/move2676.html ]\n",
      " \n",
      " \"cruel justice,\" airing august 25 at 6 pm et/pt\n",
      " after his daughter's rapist is set free by the courts, a father seeks justice on his own terms.\n",
      " [ http://www.lifetimetv.com/movies/info/move3023.html ]\n",
      " \n",
      " ***********************************************************************\n",
      " \n",
      " fun and games\n",
      " think you're ultimate film fanatic? prove it! play cinema sequence and see if you really know all the star facts and flick stats [ http://www.lifetimetv.com/movies/games/cinemaseq/index.html ].\n",
      " \n",
      " ***********************************************************************\n",
      " \n",
      " subscription information for the lifetime movie newsletter\n",
      " \n",
      " please do not reply to this e-mail; it's automatically generated, and this mailbox is not read by anyone. therefore you will not get a response. if you wish to be removed from the lifetime movie newsletter mailing list, please send an e-mail to unsubscribe-movies@email.lifetimetv.com. if you are a my lifetime member and wish to add to or modify your current newsletter preferences, please go to http://www.lifetimetv.com/cgi/edit_profile.cgi and change your subscription options. if you need to write to us, please do so at subscriptions@lifetimetv.com. thank you.\n",
      " \n",
      "\n"
     ]
    }
   ],
   "source": [
    "# Just run this cell, don't modify it.\n",
    "\n",
    "print(\"spam: \" + str(train.loc[36][\"spam\"]))\n",
    "print(\"\\nemail:\\n\" + train.loc[36][\"email\"])"
   ]
  },
  {
   "cell_type": "markdown",
   "metadata": {},
   "source": [
    "### Example 3"
   ]
  },
  {
   "cell_type": "code",
   "execution_count": 145,
   "metadata": {},
   "outputs": [
    {
     "name": "stdout",
     "output_type": "stream",
     "text": [
      "spam: 0\n",
      "\n",
      "email:\n",
      "this is a multi part message in mime format.\n",
      " \n",
      " --_nextpart_1_bvfoditvghtocxfdvjnkcuwblfv\n",
      " content-type: text/plain; charset=\"us-ascii\"\n",
      " content-transfer-encoding: 7bit\n",
      " \n",
      " ........... with our telecoms partner bumblebee !\n",
      " \n",
      " don't get ripped off by expensive hotel, payphone and mobile charges. \n",
      " save, save, save on international calls with ryanair's phone partner. \n",
      " ************************************************************************\n",
      " *********\n",
      " \n",
      " you'll save up to 70% on international phone calls when you use our \n",
      " online phone card.  you can use the card from any phone in any country \n",
      " you visit and you won't have to worry about high phone charges \n",
      " when you call home or the office.\n",
      " \n",
      " buying a card couldn't be easier and it's totally secure.  simply go to\n",
      " http://www.bumblebeecommunications.com/lowcostcalls/  \n",
      "  to avail of this special offer for ryanair customers.\n",
      " \n",
      " it's another great deal from ryanair and our online phone \n",
      " partner, bumblebee communications. \n",
      " \n",
      "  \n",
      " \n",
      " \n",
      " \n",
      " \n",
      " \n",
      " \n",
      " \n",
      " =====================================================================\n",
      " \n",
      " e-mail disclaimer\n",
      " \n",
      " this e-mail and any files and attachments transmitted with it \n",
      " are confidential and may be legally privileged. they are intended \n",
      " solely for the use of the intended recipient.  any views and \n",
      " opinions expressed are those of the individual author/sender \n",
      " and are not necessarily shared or endorsed by ryanair holdings plc \n",
      " or any associated or related company. in particular e-mail \n",
      " transmissions are not binding for the purposes of forming \n",
      " a contract to sell airline seats, directly or via promotions, \n",
      " and do not form a contractual obligation of any type.   \n",
      " such contracts can only be formed in writing by post or fax, \n",
      " duly signed by a senior company executive, subject to approval \n",
      " by the board of directors.\n",
      " \n",
      " the content of this e-mail or any file or attachment transmitted \n",
      " with it may have been changed or altered without the consent \n",
      " of the author.  if you are not the intended recipient of this e-mail, \n",
      " you are hereby notified that any review, dissemination, disclosure, \n",
      " alteration, printing, circulation or transmission of, or any \n",
      " action taken or omitted in reliance on this e-mail or any file \n",
      " or attachment transmitted with it is prohibited and may be unlawful.\n",
      " \n",
      " if you have received this e-mail in error \n",
      " please notify ryanair holdings plc by emailing postmaster@ryanair.ie\n",
      " or contact ryanair holdings plc, dublin airport, co dublin, ireland.  \n",
      " \n",
      " --_nextpart_1_bvfoditvghtocxfdvjnkcuwblfv\n",
      " content-type: application/ms-tnef\n",
      " content-transfer-encoding: base64\n",
      " \n",
      " ej8+ijuqaqaqcaaeaaaaaaabaaeaaqeqbgaiaaaa5aqaaaaaaadoaaeigacagaaaaelqts5nawny\n",
      " b3nvznqgtwfpbc5ob3rladeiaq2abaacaaaaagacaaeegaeajwaaafnhdmugdxagdg8gnzalig9u\n",
      " igludgvybmf0aw9uywwgy2fsbhmhacgnaqwaawaoaaaa0gciab4aeqaqadqabqbzaqeggamadgaa\n",
      " anihcaaeabeakga0aauacwebcyabaceaaaaxnundqzu1m0zcnjvgotrcodjbote2nji0qjy5odi2\n",
      " naagbwedkayayagaadeaaaalaaiaaqaaaamajgaaaaaaawa2aaaaaabaadkaohxzserqwgeead0a\n",
      " aqaaaaeaaaaaaaaaagfhaaeaaaayaaaayz11czthpsa7cd1sewfuywlyo2w9q0hpvk1bsuwxltay\n",
      " mdgzmde2ndi1mlotnty1ngaaab4acaabaaaajwaaafnhdmugdxagdg8gnzalig9uigludgvybmf0\n",
      " aw9uywwgy2fsbhmhaaacaxeaaqaaabyaaaabwlbesgnvr3xmdo5jp7lazao6pgd8aaaeabomaqaa\n",
      " aawaaabdb3lszswgu2vhbgaeab0oaqaaaccaaabtyxzlihvwihrvidcwjsbvbibpbnrlcm5hdglv\n",
      " bmfsignhbgxziqaaagejeaeaaac7agaatwiaalseaabmwkz1tpw4mgmacgbyy3bnmti14jidq3rl\n",
      " eavbaqmb908kgakka+mcagnocsbz8gv0mcahewkad/mauh8evghvb7irxq5raweqxzl3bgagwxhf\n",
      " mwrgemks2xht2wjvcfc7gl8omdurwgxgzmmauasjawqznhfqc6yuic4dmcad8hroinuiysaosgwf\n",
      " kw0eiaqxzhrueyfcdqbqhwbiuqngicekogqecobeaibqxcc5mgvazxewib0fexajgb6qasagynku\n",
      " ia7aimaagxygcghvzr7hlb9hexajsb+wipcacckabgbiaxagcbdiifcgcx4wikrtqvzfjaa/jlge\n",
      " kaogc4aosasgyxteaqigb0aluadabaqghlpsunkacatwcigsh1eky/sfdsxwkitplf8tby5/l0od\n",
      " ikpzcgahkiiqihnhcsobdxae0g8gnzaujsdfkeuodwgj8cb5vwhgmfarib6tikqcigwlgo8qmtpf\n",
      " cyaemcaxeshha6d3nqiecdauiansjkei8cru1wuaolmfohucmhii8cckvttcdgqahmakoztcdyf2\n",
      " 7xdwi4eymtvqcjohaaaiypk8qwlnhoaztsv0jeu0d/8ociohb4aekb7bn/eioq3grguuikof8hkl\n",
      " ggckohm4fdnrbgqhhsbqiwbh/wcqeyeksh5gkzqymagqkjc7ivarigmiceegnwbtb3bbc1ai8gcy\n",
      " qdixaajacja6ly93r1auyiagfr8hbtnwdean8yxahyevprhqdwwgc3qocy83ap8gpdiimcalcamg\n",
      " iqa30qqa+zggimbjbzeikhmhahafwh8pjsvqnqaymaeaerbbo0l/rjuaccpaniafwanbj/ag/wea\n",
      " kee4c0zmjlieojxrikt/h3ukab/4cfbisyxlskugqgtwx1drfvigab4anrabaaaasaaaadxemtng\n",
      " n0mwntq3rdcxrjrdqtqwnzmyn0e4mjuxmzywmde5q0e5q0bdse9wtufjtdeuy2hvlmnvcnaucnlh\n",
      " bmfpci5jb20+aamagbd/////cwdyeaeaaaafapmqaqaaafoaaabtageadgblacaadqbwacaadabv\n",
      " acaanwawacuamga1acaabwbuacaaaqbuahqazqbyag4ayqb0agkabwbuageabaagagmayqbsagwa\n",
      " cwahac4arqbnaewaaaaaaasa9haaaaaaqaahmn0zcuheumibqaaimjpeduheumibawdep59oaaad\n",
      " ape/cqqaab4a+d8baaaadaaaaenvewxllcbtzwfuaaib+t8baaaaxqaaaaaaaadcp0diweiqgrs5\n",
      " caarl+gcaqaaaaaaaaavtz1swufoqulsl09vpuzjulnuiefetulosvnuukfusvzfiedst1vql0no\n",
      " pvjfq0lqsuvovfmvq049q09ztevtaaaaab4a+j8baaaafqaaafn5c3rlbsbbzg1pbmlzdhjhdg9y\n",
      " aaaaaaib+z8baaaahgaaaaaaaadcp0diweiqgrs5caarl+gcaqaaaaaaaaauaaaaawazqaaaaaad\n",
      " abpaaaaaab4ameabaaaabwaaaenpwuxfuwaahgaxqaeaaaahaaaaq09ztevtaaaeadhaaqaaaaca\n",
      " aabdt1lmrvmaab4aouabaaaaagaaac4aaaadaalzaqaaaasawieiiayaaaaaamaaaaaaaabgaaaa\n",
      " aa6faaaaaaaaawbwgqggbgaaaaaawaaaaaaaaeyaaaaauouaafmuaqaeahgbccagaaaaaadaaaaa\n",
      " aaaargaaaabuhqaaaqaaaauaaaaxmc4waaaaaamauieiiayaaaaaamaaaaaaaabgaaaaaagfaaaa\n",
      " aaaaqac6gqggbgaaaaaawaaaaaaaaeyaaaaayiuaaaaaaaaaaaaacwc9gqggbgaaaaaawaaaaaaa\n",
      " aeyaaaaaa4uaaaaaaaadamebccagaaaaaadaaaaaaaaargaaaaaqhqaaaaaaaamazoeiiayaaaaa\n",
      " amaaaaaaaabgaaaaabifaaaaaaaacwdlgqggbgaaaaaawaaaaaaaaeyaaaaabouaaaaaaaalaomb\n",
      " ccagaaaaaadaaaaaaaaargaaaacchqaaaaaaaasakqaaaaaacwajaaaaaaadaayqhr1s2qmabxb/\n",
      " agaaawaqeasaaaadabeqaqaaab4acbabaaaazqaaafdjvehpvvjuruxfq09nu1bbulrorvjcvu1c\n",
      " tevcruvet05ur0vuuklquevet0zgqllfwfbftlnjvkvit1rftcxqqvlqse9orufore1pqklmruni\n",
      " qvjhrvntqvzflfnbvkusu0eaaaaaagf/aaeaaabiaaaapeqxm0y3qza1nddenzfgnenbnda3mzi3\n",
      " qtgynteznjawmtldqtldqenit1znqulmms5jag8uy29ycc5yewfuywlylmnvbt4aeoq=\n",
      " \n",
      " \n",
      " --_nextpart_1_bvfoditvghtocxfdvjnkcuwblfv\n",
      " content-type: text/plain; charset=\"us-ascii\"\n",
      " content-description: footer\n",
      " \n",
      " ---\n",
      " you are currently subscribed to customers as: zzzz-ryanair@example.com\n",
      " to unsubscribe send a blank email to leave-customers-949326k@mail.ryanairmail.com\n",
      " \n",
      " --_nextpart_1_bvfoditvghtocxfdvjnkcuwblfv--\n",
      " \n",
      " \n",
      "\n"
     ]
    }
   ],
   "source": [
    "# Just run this cell, don't modify it.\n",
    "\n",
    "print(\"spam: \" + str(train.loc[1092][\"spam\"]))\n",
    "print(\"\\nemail:\\n\" + train.loc[1092][\"email\"])"
   ]
  },
  {
   "cell_type": "markdown",
   "metadata": {
    "deletable": false,
    "editable": false
   },
   "source": [
    "### <!-- BEGIN QUESTION -->\n",
    "\n",
    "### Question 6a\n",
    "\n",
    "Pick at least **one** of the emails provided above to comment on. How would you classify the email (e.g., spam or ham), and does this align with the classification provided in the training data? What could be a reason someone would disagree with *your* classification of the email? In 2-3 sentences, explain your perspective and potential reasons for disagreement."
   ]
  },
  {
   "cell_type": "markdown",
   "metadata": {},
   "source": [
    "Example 2 is labeled as ham, but I might classify it as spam because it has the structure and content of a promotional email, including multiple links and advertising language. However, someone might disagree with this classification because the email comes from a subscribed newsletter, providing legitimate information that the recipient likely expects and finds valuable. While the format resembles spam, its purpose and source justify its classification as ham."
   ]
  },
  {
   "cell_type": "markdown",
   "metadata": {
    "deletable": false,
    "editable": false
   },
   "source": [
    "<!-- END QUESTION -->\n",
    "\n",
    "<!-- BEGIN QUESTION -->\n",
    "\n",
    "### Question 6b\n",
    "\n",
    "As data scientists, we sometimes take the data to be a fixed “ground truth,” establishing the “correct” classification of emails. However, as you might have seen above, some emails can be ambiguous; people may disagree about whether an email is actually spam or ham. How does the ambiguity in our labeled data (spam or ham) affect our understanding of the model's predictions and the way we measure/evaluate our model's performance?"
   ]
  },
  {
   "cell_type": "markdown",
   "metadata": {},
   "source": [
    "Ambiguity in labeled data, such as the subjective classification of emails as spam or ham, affects both the interpretation of model predictions and the evaluation of model performance. First, the \"ground truth\" labels may not reflect universal agreement, as they often depend on subjective criteria or the context of the email's purpose. This could lead to disagreement among users or evaluators, especially for borderline cases. Second, any bias or inconsistency in the labeling process can propagate through the model, potentially skewing results and reducing trust in its outputs. Finally, ambiguous labels make it difficult to determine whether the model’s misclassifications are genuine errors or reasonable differences in interpretation, impacting metrics like precision and recall. Understanding these limitations highlights the importance of critically examining the data and its labeling process to ensure fair and meaningful evaluations of the model's performance."
   ]
  },
  {
   "cell_type": "markdown",
   "metadata": {
    "deletable": false,
    "editable": false
   },
   "source": [
    "<!-- END QUESTION -->\n",
    "\n",
    "As a data scientist, we encourage you to think more critically about your data before establishing it as the \"ground truth.\" Whenever you're working on a specific problem, ask yourself:  \n",
    "1. Who “made” the data? Think about all the stages from when it was first generated, collected, and labeled before it ended up in a CSV file.\n",
    "2. What assumptions and biases are inherently present in the data?\n",
    "3. And finally, how does all this affect how you interpret your model’s performance?"
   ]
  },
  {
   "cell_type": "markdown",
   "metadata": {},
   "source": [
    "<br><br>\n",
    "\n",
    "---\n",
    "\n",
    "## Question 7\n",
    "\n",
    "In Question 6, we explored the instability present in the “ground truth” and how this affects our evaluation of our model. Now, let's start thinking about your model's interpretability and what that means more broadly for an email classification task. A model is considered interpretable if humans can easily understand the reasoning behind its predictions and classifications."
   ]
  },
  {
   "cell_type": "markdown",
   "metadata": {},
   "source": [
    "### Question 7a\n",
    "\n",
    "First, let's see if we can understand how our choice of features relates to how a particular email is classified. "
   ]
  },
  {
   "cell_type": "markdown",
   "metadata": {
    "deletable": false,
    "editable": false
   },
   "source": [
    "#### Part i\n",
    "\n",
    "Let’s take a look at the `simple_model` we provided you earlier that uses 5 features. We have provided the code below for ease of reference. You will examine how a particular feature influences how an email is classified. "
   ]
  },
  {
   "cell_type": "code",
   "execution_count": 146,
   "metadata": {
    "deletable": false,
    "editable": false
   },
   "outputs": [],
   "source": [
    "# Simple model introduced at the start of this notebook. Just pay attention to the features.\n",
    "some_words = ['drug', 'bank', 'prescription', 'memo', 'private']\n",
    "\n",
    "X_train = words_in_texts(some_words, train['email'])\n",
    "Y_train = np.array(train['spam'])\n",
    "\n",
    "simple_model = LogisticRegression()\n",
    "simple_model.fit(X_train, Y_train);"
   ]
  },
  {
   "cell_type": "markdown",
   "metadata": {
    "deletable": false,
    "editable": false
   },
   "source": [
    "Pick an email from the training set and assign its index to `email_idx`. Then, find **one** feature used in `simple_model` such that **removing** it changes how that email is classified. Assign this feature to  `feature_to_remove`.\n",
    "\n",
    "**Hint**: We suggest starting with finding spam emails that contain the features in our model. All the features in our simple model relate to spam emails, thus it is easier to find a spam email + remove a feature to get it to flip classes."
   ]
  },
  {
   "cell_type": "code",
   "execution_count": 147,
   "metadata": {
    "tags": []
   },
   "outputs": [],
   "source": [
    "# Use this cell for scratch work when determining `email_idx`\n",
    "..."
   ]
  },
  {
   "cell_type": "code",
   "execution_count": 148,
   "metadata": {
    "tags": []
   },
   "outputs": [
    {
     "name": "stdout",
     "output_type": "stream",
     "text": [
      "\n",
      "Predicted probability of being spam: 55.57%\n",
      "\n",
      "Email:\n",
      "request for urgent business assistance\n",
      " --------------------------------------\n",
      " i stumbled into your contact by stroke of luck after a\n",
      " long search for an honest and trust worthy person who \n",
      " could handle issue with high confidentiality.\n",
      " i was so dilghted when i got your contact and i decided\n",
      " to contact you  and solicite for your kind assistance.\n",
      " i hope you will let this issue to remain confidential even\n",
      " if you are not interested because of my status.\n",
      "  \n",
      " i am laurent mpeti kabila (jnr) the second son of\n",
      " late president laurent desire kabila the immediate\n",
      " past president of the democratic republic of congo in\n",
      " africa who was murdered by his opposition through his personal\n",
      " bodyguards in his bedroom on tuesday 16th january, 2001.\n",
      " i have the privilege of being mandated by my father,s \n",
      " colleagues to seek your immediate and urgent co-operation \n",
      " to receive into your bank account the sum of us $25m.\n",
      " (twenty-five million dollars) and some thousands carats\n",
      " of diamond. this money and treasures was lodged in a vault with a\n",
      " security firm in europe and south-africa.\n",
      " \n",
      " sources of diamonds and fund\n",
      " in august 2000, my father as a defence minister and\n",
      " president has a meeting with his cabinet and armychief about the\n",
      " defence budget for 2000 to 2001 which was us $700m. \n",
      " so he directed one of his best friend. frederic kibasa maliba\n",
      " who was a minister of mines and a political party leader known\n",
      " as the union sacree de,opposition radicale et ses allies (usoral)\n",
      " to buy arms with us $200m on 5th january 2001; for him to finalize\n",
      " the arms deal,my father was murdered. f.k. maliba (fkm) and i have\n",
      " decided to keep the money with a foreigner after which he will use\n",
      " it to contest for the political election. inspite of all this we\n",
      " have resolved to present you or your company for the firm to pay \n",
      " it into your nominated account the above sum and diamonds. \n",
      " this transaction should be finalized within seven (7) working \n",
      " days and for your co-operation and partnership, we have unanimously \n",
      " agreed that you will be entitled to 5.5% of the money when successfully \n",
      " receive it in your account. the nature of your business is not relevant to \n",
      " the successful execution of this transaction what we require is your \n",
      " total co-operation and commitment to ensure 100%risk-free transaction at \n",
      " both ends and to protect the persons involved in this transaction  strict\n",
      " confidence and utmost secrecy is required even after the uccessful conclusion \n",
      " of this transaction. if this proposal is acceptable to you, kindly provide me\n",
      " with your personal telephone and fax through my e-mail box for immediate\n",
      " commencement of the transaction. i count on your honour to keep my\n",
      " secret, secret.\n",
      " \n",
      " looking forward for your urgent reply\n",
      " \n",
      " thanks.\n",
      " best regards\n",
      "   \n",
      " mpeti l. kabila (jnr)\n",
      " \n",
      " \n",
      " \n",
      " \n",
      " \n",
      " \n",
      " \n",
      " \n",
      " http://xent.com/mailman/listinfo/fork\n",
      " \n",
      " \n",
      "\n"
     ]
    }
   ],
   "source": [
    "email_idx = 108\n",
    "prob_spam = simple_model.predict_proba(X_train)[:, 1]\n",
    "initial_prob = prob_spam[email_idx]\n",
    "initial_class = \"spam\" if np.round(initial_prob) else \"ham\"\n",
    "print(f\"\\nPredicted probability of being spam: {np.round(initial_prob*100, 2)}%\")\n",
    "print(\"\\nEmail:\\n\" + train.loc[email_idx][\"email\"])"
   ]
  },
  {
   "cell_type": "code",
   "execution_count": 149,
   "metadata": {
    "tags": []
   },
   "outputs": [
    {
     "name": "stdout",
     "output_type": "stream",
     "text": [
      "Initially classified as spam (Probability: 55.57%)\n",
      "Now classified as ham (Probability: 24.33%)\n"
     ]
    }
   ],
   "source": [
    "feature_to_remove =  \"bank\"\n",
    "\n",
    "changed_words = some_words.copy()\n",
    "changed_words.remove(feature_to_remove)\n",
    "\n",
    "changed_model = LogisticRegression()\n",
    "X_changed = words_in_texts(changed_words, train['email'])\n",
    "y = train['spam']\n",
    "changed_model.fit(X_changed, y)\n",
    "changed_prob = changed_model.predict_proba(X_changed[[email_idx]])[:,1][0]\n",
    "changed_class = \"spam\" if np.round(changed_prob) else \"ham\"\n",
    "\n",
    "print(f\"Initially classified as {initial_class} (Probability: {np.round(initial_prob*100, 2)}%)\")\n",
    "print(f\"Now classified as {changed_class} (Probability: {np.round(changed_prob*100, 2)}%)\")"
   ]
  },
  {
   "cell_type": "code",
   "execution_count": 150,
   "metadata": {
    "deletable": false,
    "editable": false
   },
   "outputs": [
    {
     "data": {
      "text/html": [
       "<p><strong><pre style='display: inline;'>q7ai</pre></strong> passed! 💯</p>"
      ],
      "text/plain": [
       "q7ai results: All test cases passed!"
      ]
     },
     "execution_count": 150,
     "metadata": {},
     "output_type": "execute_result"
    }
   ],
   "source": [
    "grader.check(\"q7ai\")"
   ]
  },
  {
   "cell_type": "markdown",
   "metadata": {
    "deletable": false,
    "editable": false
   },
   "source": [
    "<!-- BEGIN QUESTION -->\n",
    "\n",
    "#### Part ii\n",
    "\n",
    "Please provide below the index of the email that you removed (`email_idx`). Additionally, in 2-3 sentences, explain why you think the feature you chose to remove changed how your email was classified."
   ]
  },
  {
   "cell_type": "markdown",
   "metadata": {},
   "source": [
    "The feature I removed was \"bank\", which likely had a significant influence on the classification as \"spam.\" This is because the term \"bank\" is commonly associated with financial scams or spam emails offering fraudulent opportunities, which the model might heavily weigh as a spam indicator. By removing this word, the model had fewer reasons to classify the email as spam, leading to the classification flipping to \"ham.\""
   ]
  },
  {
   "cell_type": "markdown",
   "metadata": {
    "deletable": false,
    "editable": false
   },
   "source": [
    "<!-- END QUESTION -->\n",
    "\n",
    "### Question 7b\n",
    "\n",
    "Now, let's say that instead of working with a small model containing 50-100 features, you're working with a much larger, more accurate model containing 1000 features. "
   ]
  },
  {
   "cell_type": "markdown",
   "metadata": {
    "deletable": false,
    "editable": false
   },
   "source": [
    "<!-- BEGIN QUESTION -->\n",
    "\n",
    "#### Part i\n",
    "In this context, do you think you could easily find a feature that could change an email's classification as you did in part a)? Why or why not?"
   ]
  },
  {
   "cell_type": "markdown",
   "metadata": {},
   "source": [
    "In the context of a larger model with 1,000 features, it would be much more difficult to identify a single feature that could significantly change an email's classification. This is because a larger model distributes the importance of classification across many features, making each individual feature contribute less to the overall decision. Additionally, such models often capture more nuanced patterns, reducing the likelihood that the removal of a single feature would dramatically shift the classification outcome. As a result, finding and isolating impactful features in this scenario would require more systematic analysis or interpretability tools like feature importance scores."
   ]
  },
  {
   "cell_type": "markdown",
   "metadata": {
    "deletable": false,
    "editable": false
   },
   "source": [
    "<!-- END QUESTION -->\n",
    "\n",
    "<!-- BEGIN QUESTION -->\n",
    "\n",
    "#### Part ii \n",
    "Would you expect this new model to be more or less interpretable than `simple_model`?\n",
    "\n",
    "**Note**: A model is considered interpretable if you can easily understand the reasoning behind its predictions and classifications. For example, the model we saw in part a), `simple_model`, is considered interpretable as we can identify which features contribute to an email's classification."
   ]
  },
  {
   "cell_type": "markdown",
   "metadata": {},
   "source": [
    "The new model with 1,000 features would likely be less interpretable than the simple_model. While the simple_model uses only five features, making it straightforward to trace which features influence predictions, a larger model spreads its decision-making across many features. This complexity makes it harder to pinpoint the individual contributions of features without additional tools like SHAP values or feature importance analysis. In simpler models, the reasoning behind predictions is more transparent, but in larger models, understanding the decision process often requires more advanced interpretability techniques."
   ]
  },
  {
   "cell_type": "markdown",
   "metadata": {
    "deletable": false,
    "editable": false
   },
   "source": [
    "<!-- END QUESTION -->\n",
    "\n",
    "<!-- BEGIN QUESTION -->\n",
    "\n",
    "### Question 7c\n",
    "\n",
    "Now, imagine you’re a data scientist at Meta, developing a text classification model to decide whether to remove certain posts / comments on Facebook. In particular, you’re primarily working on moderating the following categories of content:\n",
    "* Hate speech\n",
    "* Misinformation \n",
    "* Violence and incitement\n",
    "\n",
    "Pick one of these types of content to focus on (or if you have another type you’d like to focus on, feel free to comment on that!). What content would fall under the category you’ve chosen? Refer to Facebook’s [Community Standards](https://transparency.fb.com/policies/community-standards/), which outline what is and isn’t allowed on Facebook. "
   ]
  },
  {
   "cell_type": "markdown",
   "metadata": {},
   "source": [
    "**Hate Speech:** If I were focusing on hate speech, the content under this category would include posts or comments that attack people based on protected characteristics such as race, ethnicity, national origin, religion, sexual orientation, gender, gender identity, or disability. This would also extend to dehumanizing language, violent threats, or derogatory statements aimed at marginalized groups. According to Facebook's Community Standards, the goal is to remove harmful speech while maintaining a platform for open dialogue. However, distinguishing hate speech from offensive or controversial speech poses challenges, as cultural context, intent, and phrasing can make automated classification difficult."
   ]
  },
  {
   "cell_type": "markdown",
   "metadata": {
    "deletable": false,
    "editable": false
   },
   "source": [
    "<!-- END QUESTION -->\n",
    "\n",
    "<!-- BEGIN QUESTION -->\n",
    "\n",
    "### Question 7d\n",
    "\n",
    "What are the stakes of misclassifying a post in the context of a social media platform? Comment on what a false positive and false negative means for the category of content you’ve chosen (hate speech, misinformation, or violence and incitement)."
   ]
  },
  {
   "cell_type": "markdown",
   "metadata": {},
   "source": [
    "The stakes of misclassifying posts on a social media platform are significant, as they can directly affect the platform's users and its reputation. A false positive in hate speech detection occurs when a benign post is flagged as hate speech. This can lead to unfair censorship, loss of trust from users, and accusations of bias against the platform. For example, posts discussing sensitive topics in a neutral or educational way might be mistakenly flagged. A false negative, on the other hand, means hate speech goes undetected and remains on the platform. This can result in harm to individuals or communities, foster a hostile environment, and expose the platform to public criticism or legal liabilities. Striking a balance between minimizing both types of errors is critical to ensuring user safety and maintaining freedom of expression."
   ]
  },
  {
   "cell_type": "markdown",
   "metadata": {
    "deletable": false,
    "editable": false
   },
   "source": [
    "<!-- END QUESTION -->\n",
    "\n",
    "<!-- BEGIN QUESTION -->\n",
    "\n",
    "### Question 7e\n",
    "\n",
    "As a data scientist, why might having an interpretable model be useful when moderating content online?"
   ]
  },
  {
   "cell_type": "markdown",
   "metadata": {},
   "source": [
    "Having an interpretable model is essential when moderating content online because it allows data scientists, policymakers, and users to understand why certain decisions were made. Interpretability helps in identifying biases, refining model logic, and ensuring accountability. For example, if a post is flagged for removal, an interpretable model can provide insights into which features contributed to the decision, fostering transparency. Moreover, this understanding can help refine the model by addressing overreliance on certain features, improving fairness and reducing unintended consequences. In the broader sociotechnical system, interpretability builds trust among users and ensures compliance with platform standards and legal frameworks. Ultimately, while interpretability is not a standalone solution, it is crucial for creating ethical and effective moderation systems."
   ]
  },
  {
   "cell_type": "markdown",
   "metadata": {
    "deletable": false,
    "editable": false
   },
   "source": [
    "<!-- END QUESTION -->\n",
    "\n",
    "As you explored throughout this question, interpretability is incredibly important. However, it is equally important to note that interpretability on its own isn’t a fix to all the problems that may arise when moderating content or when building a model more generally. As we touched on in Project A2, these models don’t operate in a vacuum; they exist in a wider sociotechnical system. Everything from the data used to train these models to the metrics we choose to evaluate our models builds on that notion."
   ]
  },
  {
   "cell_type": "markdown",
   "metadata": {},
   "source": [
    "<br/><br/>\n",
    "<hr style=\"border: 5px solid #003262;\" />\n",
    "<hr style=\"border: 1px solid #fdb515;\" />\n",
    "\n",
    "## The pets of Data100 congratulate you for finishing Project B2 (the last major assignment)!\n",
    "\n",
    "<div align=\"middle\">\n",
    "    <table style=\"width:75%\">\n",
    "      <tr align=\"center\">\n",
    "        <td><img src=\"images/IMG_2792.jpg\" align=\"middle\" width=\"325vw\"/>\n",
    "        <td><img src=\"images/_DSC9613.jpg\" align=\"middle\" width=\"335vw\"/>\n",
    "        <td><img src=\"images/IMG_2797.jpg\" align=\"middle\" width=\"325vw\"/>\n",
    "      </tr>\n",
    "      <tr align=\"center\">\n",
    "        <td><img src=\"images/IMG_5768.jpg\" align=\"middle\" width=\"325vw\"/>\n",
    "        <td><img src=\"images/IMG_2485.jpg\" align=\"middle\" width=\"325vw\"/>\n",
    "        <td><img src=\"images/IMG_5878.jpg\" align=\"middle\" width=\"325vw\"/>\n",
    "      </tr>\n",
    "      <tr align=\"center\">\n",
    "        <td><img src=\"images/IMG_8790.jpg\" align=\"middle\" width=\"325vw\"/>\n",
    "        <td><img src=\"images/IMG_6077.jpeg\" align=\"middle\" width=\"325vw\"/>\n",
    "        <td><img src=\"images/IMG_9524.jpg\" align=\"middle\" width=\"325vw\"/>\n",
    "      </tr>\n",
    "    </table>\n",
    "  </div>\n",
    "\n",
    "### Course Content Feedback\n",
    "\n",
    "If you have any feedback about this assignment or about any of our other weekly, weekly assignments, lectures, or discussions, please fill out the [Course Content Feedback Form](https://docs.google.com/forms/d/e/1FAIpQLSdpKA_E3b7PGqKSRqBUgSebb9bVFhRwRBv1ueisGsnKFkZkYg/viewform). Your input is valuable in helping us improve the quality and relevance of our content to better meet your needs and expectations!\n",
    "\n",
    "### Submission Instructions\n",
    "\n",
    "Below, you will see a cell. Running this cell will automatically generate a zip file with your autograded answers. Once you submit this file to the Project B2 Coding assignment on Gradescope, Gradescope will automatically submit a PDF file with your written answers to the Project B2 Written assignment. If you run into any issues when running this cell, feel free to check this [section](https://ds100.org/debugging-guide/autograder_gradescope/autograder_gradescope.html#why-does-grader.exportrun_teststrue-fail-if-all-previous-tests-passed) in the Data 100 Debugging Guide.\n",
    "\n",
    "If there are issues with automatically generating the PDF, you can try downloading the notebook as a PDF by clicking on `File -> Save and Export Notebook As... -> PDF`. If that doesn't work either, you can manually take screenshots of your answers to the manually graded questions and submit those. \n",
    "\n",
    "**Please make sure you submit the following to the right assignments:**\n",
    "\n",
    "* **Project B2 Coding:** Submit the zip file generated by using the `grader.export()` cell provided below.\n",
    "* **Project B2 Written:** Gradescope will automatically submit the PDF from the zip file submitted earlier. You do not need to submit anything to this assignment yourself, but *please check that the submission went through properly and that all plots rendered correctly*.\n",
    "* **Project B2 Test Set Predictions:** Submit the CSV file generated in `q3b`.\n",
    "\n",
    "**You are responsible for ensuring your submission follows our requirements and that everything was generated and submitted correctly. We will not be granting regrade requests nor extensions to submissions that don't follow instructions.** If you encounter any difficulties with submission, please don't hesitate to reach out to staff prior to the deadline. "
   ]
  },
  {
   "cell_type": "code",
   "execution_count": null,
   "metadata": {},
   "outputs": [],
   "source": []
  },
  {
   "cell_type": "markdown",
   "metadata": {
    "deletable": false,
    "editable": false
   },
   "source": [
    "## Submission\n",
    "\n",
    "Make sure you have run all cells in your notebook in order before running the cell below, so that all images/graphs appear in the output. The cell below will generate a zip file for you to submit. **Please save before exporting!**"
   ]
  },
  {
   "cell_type": "code",
   "execution_count": 151,
   "metadata": {
    "deletable": false,
    "editable": false
   },
   "outputs": [
    {
     "name": "stdout",
     "output_type": "stream",
     "text": [
      "Running your submission against local test cases...\n",
      "\n",
      "\n",
      "Your submission received the following results when run against available test cases:\n",
      "\n",
      "    q3a results: All test cases passed!\n",
      "\n",
      "    q3b results: All test cases passed!\n",
      "\n",
      "    q7ai results: All test cases passed!\n"
     ]
    },
    {
     "data": {
      "text/html": [
       "\n",
       "                    <p>\n",
       "                        Your submission has been exported. Click\n",
       "                        <a href=\"projB2_2024_12_06T05_46_01_347840.zip\" download=\"projB2_2024_12_06T05_46_01_347840.zip\" target=\"_blank\">here</a> to download\n",
       "                        the zip file.\n",
       "                    </p>\n",
       "                "
      ],
      "text/plain": [
       "<IPython.core.display.HTML object>"
      ]
     },
     "metadata": {},
     "output_type": "display_data"
    }
   ],
   "source": [
    "# Save your notebook first, then run this cell to export your submission.\n",
    "grader.export(run_tests=True)"
   ]
  },
  {
   "cell_type": "markdown",
   "metadata": {},
   "source": [
    " "
   ]
  }
 ],
 "metadata": {
  "kernelspec": {
   "display_name": "Python 3 (ipykernel)",
   "language": "python",
   "name": "python3"
  },
  "language_info": {
   "codemirror_mode": {
    "name": "ipython",
    "version": 3
   },
   "file_extension": ".py",
   "mimetype": "text/x-python",
   "name": "python",
   "nbconvert_exporter": "python",
   "pygments_lexer": "ipython3",
   "version": "3.11.12"
  },
  "otter": {
   "OK_FORMAT": true,
   "require_no_pdf_confirmation": true,
   "tests": {
    "q3a": {
     "name": "q3a",
     "points": 5,
     "suites": [
      {
       "cases": [
        {
         "code": ">>> assert 'sklearn.feature_extraction.text' not in sys.modules.keys()\n>>> bool(training_accuracy >= 0.7)\nTrue",
         "hidden": false,
         "locked": false,
         "points": 1.5
        },
        {
         "code": ">>> assert 'sklearn.feature_extraction.text' not in sys.modules.keys()\n>>> bool(training_accuracy >= 0.8)\nTrue",
         "hidden": false,
         "locked": false,
         "points": 1.5
        },
        {
         "code": ">>> assert 'sklearn.feature_extraction.text' not in sys.modules.keys()\n>>> bool(training_accuracy >= 0.84)\nTrue",
         "hidden": false,
         "locked": false,
         "points": 2
        }
       ],
       "scored": true,
       "setup": "",
       "teardown": "",
       "type": "doctest"
      }
     ]
    },
    "q3b": {
     "name": "q3b",
     "points": 0,
     "suites": [
      {
       "cases": [
        {
         "code": ">>> assert 'sklearn.feature_extraction.text' not in sys.modules.keys()\n>>> bool(isinstance(test_predictions, np.ndarray))\nTrue",
         "hidden": false,
         "locked": false
        },
        {
         "code": ">>> assert 'sklearn.feature_extraction.text' not in sys.modules.keys()\n>>> bool(np.array_equal(np.unique(test_predictions), np.array([0, 1])))\nTrue",
         "hidden": false,
         "locked": false
        },
        {
         "code": ">>> assert 'sklearn.feature_extraction.text' not in sys.modules.keys()\n>>> bool(len(test_predictions) == 1000)\nTrue",
         "hidden": false,
         "locked": false
        }
       ],
       "scored": true,
       "setup": "",
       "teardown": "",
       "type": "doctest"
      }
     ]
    },
    "q7ai": {
     "name": "q7ai",
     "points": 1,
     "suites": [
      {
       "cases": [
        {
         "code": ">>> assert simple_model.n_features_in_ == changed_model.n_features_in_ + 1\n",
         "hidden": false,
         "locked": false
        },
        {
         "code": ">>> assert changed_class != initial_class\n",
         "hidden": false,
         "locked": false
        }
       ],
       "scored": true,
       "setup": "",
       "teardown": "",
       "type": "doctest"
      }
     ]
    }
   }
  }
 },
 "nbformat": 4,
 "nbformat_minor": 4
}
